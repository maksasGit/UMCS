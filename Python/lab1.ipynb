{
 "cells": [
  {
   "cell_type": "code",
   "execution_count": 38,
   "id": "976b78e2-6b12-415b-ba8a-f1684aa17245",
   "metadata": {
    "tags": []
   },
   "outputs": [
    {
     "name": "stdout",
     "output_type": "stream",
     "text": [
      "Ala ma kota\n",
      "b'Ala ma kota'\n",
      "[1, 2, 'pies']\n",
      "(3, 4, 'kot')\n"
     ]
    }
   ],
   "source": [
    "s = 'Ala ma kota'\n",
    "b = b'Ala ma kota'\n",
    "l = [1 , 2 , \"pies\"]\n",
    "k = (3 , 4 , \"kot\")\n",
    "print(s)\n",
    "print(b)\n",
    "print(l)\n",
    "print(k)"
   ]
  },
  {
   "cell_type": "code",
   "execution_count": 39,
   "id": "9bdd9bc7-46eb-45ce-ba58-cfe34f990876",
   "metadata": {
    "tags": []
   },
   "outputs": [
    {
     "name": "stdout",
     "output_type": "stream",
     "text": [
      "A\n",
      "l\n",
      "a\n",
      " \n",
      "m\n",
      "a\n",
      " \n",
      "k\n",
      "o\n",
      "t\n",
      "a\n"
     ]
    }
   ],
   "source": [
    "for i in range(len(s)):\n",
    "    print(s[i])"
   ]
  },
  {
   "cell_type": "code",
   "execution_count": 40,
   "id": "14cc1842-7eb6-4008-a1ab-f0a36064c4d0",
   "metadata": {
    "tags": []
   },
   "outputs": [
    {
     "data": {
      "text/plain": [
       "'a'"
      ]
     },
     "execution_count": 40,
     "metadata": {},
     "output_type": "execute_result"
    }
   ],
   "source": [
    "s[-1]"
   ]
  },
  {
   "cell_type": "code",
   "execution_count": 41,
   "id": "367108f3-f9b8-4ceb-a97c-90a096a4216b",
   "metadata": {
    "tags": []
   },
   "outputs": [
    {
     "data": {
      "text/plain": [
       "'a ma'"
      ]
     },
     "execution_count": 41,
     "metadata": {},
     "output_type": "execute_result"
    }
   ],
   "source": [
    "s[2:6]"
   ]
  },
  {
   "cell_type": "code",
   "execution_count": 42,
   "id": "ab8fe206-c483-4b45-a89a-5e48af0e9e01",
   "metadata": {
    "tags": []
   },
   "outputs": [
    {
     "data": {
      "text/plain": [
       "'Ala ma kota'"
      ]
     },
     "execution_count": 42,
     "metadata": {},
     "output_type": "execute_result"
    }
   ],
   "source": [
    "s[:]"
   ]
  },
  {
   "cell_type": "code",
   "execution_count": 43,
   "id": "a913374d-1b4a-4474-8c1e-82888c63885f",
   "metadata": {
    "tags": []
   },
   "outputs": [
    {
     "data": {
      "text/plain": [
       "'a ma kota'"
      ]
     },
     "execution_count": 43,
     "metadata": {},
     "output_type": "execute_result"
    }
   ],
   "source": [
    "s[2:]"
   ]
  },
  {
   "cell_type": "code",
   "execution_count": 44,
   "id": "0edb3cdc-f817-415b-9195-3cde40dbcf56",
   "metadata": {
    "tags": []
   },
   "outputs": [
    {
     "data": {
      "text/plain": [
       "'Ala ma'"
      ]
     },
     "execution_count": 44,
     "metadata": {},
     "output_type": "execute_result"
    }
   ],
   "source": [
    "s[:6]"
   ]
  },
  {
   "cell_type": "code",
   "execution_count": 45,
   "id": "9707476f-a2a4-494e-9c4e-7a007d9fd952",
   "metadata": {
    "tags": []
   },
   "outputs": [
    {
     "data": {
      "text/plain": [
       "'l ak'"
      ]
     },
     "execution_count": 45,
     "metadata": {},
     "output_type": "execute_result"
    }
   ],
   "source": [
    "s[1:8:2]"
   ]
  },
  {
   "cell_type": "code",
   "execution_count": 46,
   "id": "bef5c02a-420d-485f-b296-f5f4ea3a6164",
   "metadata": {
    "tags": []
   },
   "outputs": [
    {
     "data": {
      "text/plain": [
       "'atok am alA'"
      ]
     },
     "execution_count": 46,
     "metadata": {},
     "output_type": "execute_result"
    }
   ],
   "source": [
    "s[::-1]"
   ]
  },
  {
   "cell_type": "code",
   "execution_count": 47,
   "id": "a5be7842-adcc-4b64-bf4e-afc8a23836fc",
   "metadata": {
    "tags": []
   },
   "outputs": [
    {
     "data": {
      "text/plain": [
       "[1,\n",
       " 2,\n",
       " 'pies',\n",
       " 1,\n",
       " 2,\n",
       " 'pies',\n",
       " 1,\n",
       " 2,\n",
       " 'pies',\n",
       " 1,\n",
       " 2,\n",
       " 'pies',\n",
       " 1,\n",
       " 2,\n",
       " 'pies',\n",
       " 1,\n",
       " 2,\n",
       " 'pies',\n",
       " 1,\n",
       " 2,\n",
       " 'pies',\n",
       " 1,\n",
       " 2,\n",
       " 'pies',\n",
       " 1,\n",
       " 2,\n",
       " 'pies',\n",
       " 1,\n",
       " 2,\n",
       " 'pies']"
      ]
     },
     "execution_count": 47,
     "metadata": {},
     "output_type": "execute_result"
    }
   ],
   "source": [
    "10*l"
   ]
  },
  {
   "cell_type": "code",
   "execution_count": 48,
   "id": "ff897323-5d56-4258-9235-1d743f367395",
   "metadata": {
    "tags": []
   },
   "outputs": [
    {
     "data": {
      "text/plain": [
       "[1, 2, 'pies', 1]"
      ]
     },
     "execution_count": 48,
     "metadata": {},
     "output_type": "execute_result"
    }
   ],
   "source": [
    "l + [1]"
   ]
  },
  {
   "cell_type": "code",
   "execution_count": 51,
   "id": "2c3b62e8-85b6-4f10-98d6-e874ce850e2c",
   "metadata": {
    "tags": []
   },
   "outputs": [
    {
     "name": "stdout",
     "output_type": "stream",
     "text": [
      "a\n",
      "l\n",
      "a\n",
      " \n",
      "m\n",
      "a\n",
      " \n",
      "k\n",
      "o\n",
      "t\n",
      "a\n"
     ]
    }
   ],
   "source": [
    "for i in \"ala ma kota\":\n",
    "    print(i)"
   ]
  },
  {
   "cell_type": "code",
   "execution_count": 52,
   "id": "419b7188-e9f2-4c4e-9ba8-1479b7ad408a",
   "metadata": {
    "tags": []
   },
   "outputs": [],
   "source": [
    "a = list(\"marek\")"
   ]
  },
  {
   "cell_type": "code",
   "execution_count": 53,
   "id": "789ef8aa-af61-4207-8eed-2e4ad491bc74",
   "metadata": {
    "tags": []
   },
   "outputs": [
    {
     "data": {
      "text/plain": [
       "['m', 'a', 'r', 'e', 'k']"
      ]
     },
     "execution_count": 53,
     "metadata": {},
     "output_type": "execute_result"
    }
   ],
   "source": [
    "a"
   ]
  },
  {
   "cell_type": "code",
   "execution_count": 54,
   "id": "6ca4558e-2c23-4a88-8f3b-603af63663a5",
   "metadata": {
    "tags": []
   },
   "outputs": [
    {
     "data": {
      "text/plain": [
       "\"['m', 'a', 'r', 'e', 'k']\""
      ]
     },
     "execution_count": 54,
     "metadata": {},
     "output_type": "execute_result"
    }
   ],
   "source": [
    "str(a)"
   ]
  },
  {
   "cell_type": "code",
   "execution_count": null,
   "id": "97501178-c3b9-47f6-968a-9f898220721e",
   "metadata": {},
   "outputs": [],
   "source": []
  }
 ],
 "metadata": {
  "kernelspec": {
   "display_name": "Python 3 (ipykernel)",
   "language": "python",
   "name": "python3"
  },
  "language_info": {
   "codemirror_mode": {
    "name": "ipython",
    "version": 3
   },
   "file_extension": ".py",
   "mimetype": "text/x-python",
   "name": "python",
   "nbconvert_exporter": "python",
   "pygments_lexer": "ipython3",
   "version": "3.10.2"
  }
 },
 "nbformat": 4,
 "nbformat_minor": 5
}
