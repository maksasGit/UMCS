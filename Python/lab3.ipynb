{
 "cells": [
  {
   "cell_type": "code",
   "execution_count": 1,
   "id": "7e67237d-16bc-44d7-923d-346aed118666",
   "metadata": {
    "tags": []
   },
   "outputs": [],
   "source": [
    "def kwadrat(x):\n",
    "    return x**2"
   ]
  },
  {
   "cell_type": "code",
   "execution_count": 4,
   "id": "c271998b-25dd-4ca5-b58c-c9da376b93ab",
   "metadata": {
    "tags": []
   },
   "outputs": [
    {
     "data": {
      "text/plain": [
       "<function __main__.s()>"
      ]
     },
     "execution_count": 4,
     "metadata": {},
     "output_type": "execute_result"
    }
   ],
   "source": [
    "def s():\n",
    "    print(\"aaa\")\n",
    "s"
   ]
  },
  {
   "cell_type": "code",
   "execution_count": 5,
   "id": "1a6315aa-2b2c-498a-9ee7-c12fd3fdcecc",
   "metadata": {
    "tags": []
   },
   "outputs": [
    {
     "name": "stdout",
     "output_type": "stream",
     "text": [
      "aaa\n"
     ]
    }
   ],
   "source": [
    "s()"
   ]
  },
  {
   "cell_type": "code",
   "execution_count": 8,
   "id": "3e8a9539-dc7e-4b3b-aeb1-70ab5a8599f9",
   "metadata": {
    "tags": []
   },
   "outputs": [
    {
     "data": {
      "text/plain": [
       "16742807236"
      ]
     },
     "execution_count": 8,
     "metadata": {},
     "output_type": "execute_result"
    }
   ],
   "source": [
    "kwadrat()"
   ]
  },
  {
   "cell_type": "code",
   "execution_count": 9,
   "id": "90003138-b825-4b5e-a23f-32c5c207d378",
   "metadata": {
    "tags": []
   },
   "outputs": [],
   "source": [
    "def concat(s1 , s2 = \"nie ma\", s3 = \"nic\"):\n",
    "    return s1 + \" \" + s2 + \" \" + s3 + \".\""
   ]
  },
  {
   "cell_type": "code",
   "execution_count": 10,
   "id": "b7fb4302-4872-40c4-947d-6f81a148f697",
   "metadata": {
    "tags": []
   },
   "outputs": [
    {
     "data": {
      "text/plain": [
       "'Ala ma chomika.'"
      ]
     },
     "execution_count": 10,
     "metadata": {},
     "output_type": "execute_result"
    }
   ],
   "source": [
    "concat(\"Ala\", \"ma\" , \"chomika\")"
   ]
  },
  {
   "cell_type": "code",
   "execution_count": 11,
   "id": "08dac791-1a96-40bf-9fa2-2e5bd457dd07",
   "metadata": {
    "tags": []
   },
   "outputs": [
    {
     "data": {
      "text/plain": [
       "'Ala nie ma nic.'"
      ]
     },
     "execution_count": 11,
     "metadata": {},
     "output_type": "execute_result"
    }
   ],
   "source": [
    "concat(\"Ala\")"
   ]
  },
  {
   "cell_type": "code",
   "execution_count": 12,
   "id": "9f1a3288-cf15-4ccb-b197-f932fa40852f",
   "metadata": {
    "tags": []
   },
   "outputs": [
    {
     "data": {
      "text/plain": [
       "'Ala ma nic.'"
      ]
     },
     "execution_count": 12,
     "metadata": {},
     "output_type": "execute_result"
    }
   ],
   "source": [
    "concat(\"Ala\", \"ma\")"
   ]
  },
  {
   "cell_type": "code",
   "execution_count": 14,
   "id": "655c616e-c8c8-45df-9cbb-41e83f84e55f",
   "metadata": {
    "tags": []
   },
   "outputs": [],
   "source": [
    "def add(l = [] , element = \"x\"):\n",
    "    l.append(element)\n",
    "    return l"
   ]
  },
  {
   "cell_type": "code",
   "execution_count": 15,
   "id": "0f7dbaac-f16d-4661-ae64-399cd5b199af",
   "metadata": {
    "tags": []
   },
   "outputs": [
    {
     "name": "stdout",
     "output_type": "stream",
     "text": [
      "['x']\n"
     ]
    }
   ],
   "source": [
    "print(add())"
   ]
  },
  {
   "cell_type": "code",
   "execution_count": 16,
   "id": "682d083d-0512-40a5-8528-60ad4c7afcee",
   "metadata": {
    "tags": []
   },
   "outputs": [
    {
     "name": "stdout",
     "output_type": "stream",
     "text": [
      "[1, 2, 3, 4, 5, 6, 'x']\n"
     ]
    }
   ],
   "source": [
    "l = [1 , 2 , 3, 4, 5 , 6]\n",
    "print(add(l))"
   ]
  },
  {
   "cell_type": "code",
   "execution_count": 17,
   "id": "80fcff3b-ca43-4076-9573-72d9b2857aee",
   "metadata": {
    "tags": []
   },
   "outputs": [
    {
     "data": {
      "text/plain": [
       "[1, 2, 3, 4, 5, 6, 'x', 'x']"
      ]
     },
     "execution_count": 17,
     "metadata": {},
     "output_type": "execute_result"
    }
   ],
   "source": [
    "add(l)"
   ]
  },
  {
   "cell_type": "code",
   "execution_count": 18,
   "id": "35e47db4-6d08-482a-82cc-4e3aa62b649c",
   "metadata": {
    "tags": []
   },
   "outputs": [
    {
     "data": {
      "text/plain": [
       "[1, 2, 3, 4, 5, 6, 'x', 'x', 'x']"
      ]
     },
     "execution_count": 18,
     "metadata": {},
     "output_type": "execute_result"
    }
   ],
   "source": [
    "add(l)"
   ]
  },
  {
   "cell_type": "code",
   "execution_count": 20,
   "id": "15ab5060-7432-4994-9300-e7ebb12fb2dc",
   "metadata": {
    "tags": []
   },
   "outputs": [],
   "source": [
    "def f(a , b = None):\n",
    "    if b == None:\n",
    "        b = a"
   ]
  },
  {
   "cell_type": "code",
   "execution_count": 25,
   "id": "f64e9632-dc17-4b3d-9233-eed692220325",
   "metadata": {
    "tags": []
   },
   "outputs": [
    {
     "name": "stdout",
     "output_type": "stream",
     "text": [
      "None\n"
     ]
    }
   ],
   "source": [
    "f([1 , 2 , 3])\n",
    "print(f([1 , 2  , 3]))"
   ]
  },
  {
   "cell_type": "code",
   "execution_count": 33,
   "id": "8aba5897-e067-4ecd-ba1a-9302fe049fc0",
   "metadata": {
    "tags": []
   },
   "outputs": [],
   "source": [
    "def dlugosc(x):\n",
    "    if type(x) in (str , list , tuple , bytes): return len(x)\n",
    "    elif type(x) in (int , float, complex): return abs(x)\n",
    "    else: return None"
   ]
  },
  {
   "cell_type": "code",
   "execution_count": 37,
   "id": "82dc3cb4-af94-4fda-be47-21682fada1da",
   "metadata": {
    "tags": []
   },
   "outputs": [
    {
     "name": "stdout",
     "output_type": "stream",
     "text": [
      "14\n"
     ]
    }
   ],
   "source": [
    "x = 14\n",
    "print(dlugosc(x))"
   ]
  },
  {
   "cell_type": "code",
   "execution_count": 41,
   "id": "c9a987e7-c3f5-44c4-93ff-e75155524940",
   "metadata": {
    "tags": []
   },
   "outputs": [],
   "source": [
    "def ff(*args):\n",
    "    print(args)\n",
    "    return 1"
   ]
  },
  {
   "cell_type": "code",
   "execution_count": 42,
   "id": "d4b9cc4d-98ed-45cb-8e25-7f50e3dadf06",
   "metadata": {
    "tags": []
   },
   "outputs": [
    {
     "ename": "TypeError",
     "evalue": "ff() got an unexpected keyword argument 'b'",
     "output_type": "error",
     "traceback": [
      "\u001b[1;31m---------------------------------------------------------------------------\u001b[0m",
      "\u001b[1;31mTypeError\u001b[0m                                 Traceback (most recent call last)",
      "Cell \u001b[1;32mIn[42], line 1\u001b[0m\n\u001b[1;32m----> 1\u001b[0m \u001b[43mff\u001b[49m\u001b[43m(\u001b[49m\u001b[38;5;124;43m\"\u001b[39;49m\u001b[38;5;124;43ma\u001b[39;49m\u001b[38;5;124;43m\"\u001b[39;49m\u001b[43m,\u001b[49m\u001b[43m \u001b[49m\u001b[38;5;241;43m1\u001b[39;49m\u001b[43m \u001b[49m\u001b[43m,\u001b[49m\u001b[43m \u001b[49m\u001b[43m[\u001b[49m\u001b[38;5;241;43m1\u001b[39;49m\u001b[43m \u001b[49m\u001b[43m,\u001b[49m\u001b[43m \u001b[49m\u001b[38;5;241;43m2\u001b[39;49m\u001b[43m]\u001b[49m\u001b[43m \u001b[49m\u001b[43m,\u001b[49m\u001b[43m \u001b[49m\u001b[43mb\u001b[49m\u001b[43m \u001b[49m\u001b[38;5;241;43m=\u001b[39;49m\u001b[43m \u001b[49m\u001b[38;5;241;43m3\u001b[39;49m\u001b[43m)\u001b[49m\n",
      "\u001b[1;31mTypeError\u001b[0m: ff() got an unexpected keyword argument 'b'"
     ]
    }
   ],
   "source": [
    "ff(\"a\", 1 , [1 , 2] , b = 3)"
   ]
  },
  {
   "cell_type": "code",
   "execution_count": 44,
   "id": "51aa4818-5e0e-4de8-8ab0-570d73a4729a",
   "metadata": {
    "tags": []
   },
   "outputs": [],
   "source": [
    "def fff(a , *args , **kwargs):\n",
    "    print(args)\n",
    "    print(kwargs)\n",
    "    return 1"
   ]
  },
  {
   "cell_type": "code",
   "execution_count": 45,
   "id": "ac119da7-2884-4831-8262-a0f84edd95dc",
   "metadata": {
    "tags": []
   },
   "outputs": [
    {
     "name": "stdout",
     "output_type": "stream",
     "text": [
      "(1, [1, 2], 3, 4)\n",
      "{'b': 5, 'c': 'ala'}\n"
     ]
    },
    {
     "data": {
      "text/plain": [
       "1"
      ]
     },
     "execution_count": 45,
     "metadata": {},
     "output_type": "execute_result"
    }
   ],
   "source": [
    "fff(\"a\" , 1 , [1, 2] , 3 , 4, b = 5, c = \"ala\")"
   ]
  },
  {
   "cell_type": "code",
   "execution_count": 46,
   "id": "e9c2ccae-839c-4bbe-b84a-a48d74f3b595",
   "metadata": {
    "tags": []
   },
   "outputs": [
    {
     "name": "stdout",
     "output_type": "stream",
     "text": [
      "<built-in function abs> Automatically created module for IPython interactive environment\n"
     ]
    }
   ],
   "source": [
    "print(abs,__doc__)"
   ]
  },
  {
   "cell_type": "code",
   "execution_count": 47,
   "id": "04ac0474-e26c-4df6-b12f-2bb60159d595",
   "metadata": {
    "tags": []
   },
   "outputs": [
    {
     "name": "stdout",
     "output_type": "stream",
     "text": [
      "Return a list of the words in the string, using sep as the delimiter string.\n",
      "\n",
      "  sep\n",
      "    The delimiter according which to split the string.\n",
      "    None (the default value) means split according to any whitespace,\n",
      "    and discard empty strings from the result.\n",
      "  maxsplit\n",
      "    Maximum number of splits to do.\n",
      "    -1 (the default value) means no limit.\n"
     ]
    }
   ],
   "source": [
    "print(\"a\".split.__doc__)"
   ]
  },
  {
   "cell_type": "code",
   "execution_count": 52,
   "id": "64e9fd15-80b5-449d-a1ed-bf0a5c35e548",
   "metadata": {
    "tags": []
   },
   "outputs": [],
   "source": [
    "szesian = lambda x,y:x**y"
   ]
  },
  {
   "cell_type": "code",
   "execution_count": 53,
   "id": "937c5ceb-3f83-4816-a5ef-dee632fbb091",
   "metadata": {
    "tags": []
   },
   "outputs": [
    {
     "data": {
      "text/plain": [
       "144"
      ]
     },
     "execution_count": 53,
     "metadata": {},
     "output_type": "execute_result"
    }
   ],
   "source": [
    "szesian(12,2)"
   ]
  },
  {
   "cell_type": "code",
   "execution_count": 57,
   "id": "97e294ac-b2c8-473c-ba88-39d2b405d7c0",
   "metadata": {
    "tags": []
   },
   "outputs": [
    {
     "data": {
      "text/plain": [
       "[6, 15, -3]"
      ]
     },
     "execution_count": 57,
     "metadata": {},
     "output_type": "execute_result"
    }
   ],
   "source": [
    "l = [2 , 5 , -1]\n",
    "list(map(lambda x:x*3, l))"
   ]
  },
  {
   "cell_type": "code",
   "execution_count": 58,
   "id": "bc7f1d2f-d5c8-4c31-a46b-f9032a7ad23a",
   "metadata": {
    "tags": []
   },
   "outputs": [
    {
     "data": {
      "text/plain": [
       "[3, 6, 9, 12, 15, 18, 21, 24, 27, 30]"
      ]
     },
     "execution_count": 58,
     "metadata": {},
     "output_type": "execute_result"
    }
   ],
   "source": [
    "list(map(lambda x:x*3, range(1,11)))"
   ]
  },
  {
   "cell_type": "code",
   "execution_count": 60,
   "id": "a308b1ee-f43d-4a04-a573-0fb123a97d33",
   "metadata": {
    "tags": []
   },
   "outputs": [
    {
     "data": {
      "text/plain": [
       "[2, 4, 6, 8, 10, 12, 14, 16, 18, 20]"
      ]
     },
     "execution_count": 60,
     "metadata": {},
     "output_type": "execute_result"
    }
   ],
   "source": [
    "def even(x):\n",
    "    if x%2 == 0: return True\n",
    "    return False\n",
    "\n",
    "l = list(range(1 , 21))\n",
    "list(filter(even, l))"
   ]
  },
  {
   "cell_type": "code",
   "execution_count": 61,
   "id": "fe07b0bb-7864-4e7d-a3cb-350eef25f89d",
   "metadata": {
    "tags": []
   },
   "outputs": [],
   "source": [
    "from functools import reduce"
   ]
  },
  {
   "cell_type": "code",
   "execution_count": 63,
   "id": "ff3eb3fe-c759-46b8-9691-9a88f523386e",
   "metadata": {
    "tags": []
   },
   "outputs": [],
   "source": [
    "l = [\"a\" , \"b\" , \"c\" , \"d\" , \"e\"]"
   ]
  },
  {
   "cell_type": "code",
   "execution_count": 65,
   "id": "4c8694f0-bf2a-4015-bfaa-44a92d8f284c",
   "metadata": {
    "tags": []
   },
   "outputs": [
    {
     "name": "stdout",
     "output_type": "stream",
     "text": [
      "a b\n",
      "ab c\n",
      "abc d\n",
      "abcd e\n",
      "abcde\n"
     ]
    }
   ],
   "source": [
    "def f(x,y):\n",
    "    print(x,y)\n",
    "    return x + y\n",
    "\n",
    "print(reduce(f , l))"
   ]
  },
  {
   "cell_type": "code",
   "execution_count": 78,
   "id": "69252f54-6a89-440d-b5d0-f1f5063ba730",
   "metadata": {
    "tags": []
   },
   "outputs": [
    {
     "name": "stdout",
     "output_type": "stream",
     "text": [
      "1 2\n",
      "3 3\n",
      "6 4\n",
      "10 5\n",
      "15 6\n",
      "21 7\n",
      "28 8\n",
      "36 9\n",
      "45 10\n",
      "55 11\n",
      "66 12\n",
      "78 13\n",
      "91 14\n",
      "105 15\n",
      "120 16\n",
      "136 17\n",
      "153 18\n",
      "171 19\n",
      "190 20\n",
      "210 21\n",
      "231 22\n",
      "253 23\n",
      "276 24\n",
      "300 25\n",
      "325 26\n",
      "351 27\n",
      "378 28\n",
      "406 29\n",
      "435\n"
     ]
    }
   ],
   "source": [
    "from functools import reduce\n",
    "n = 300\n",
    "print(reduce(f, range(1 , 30)))"
   ]
  },
  {
   "cell_type": "code",
   "execution_count": 79,
   "id": "be522007-1a37-4d63-a2ca-cd8c402ea888",
   "metadata": {
    "tags": []
   },
   "outputs": [
    {
     "name": "stdout",
     "output_type": "stream",
     "text": [
      "306057512216440636035370461297268629388588804173576999416776741259476533176716867465515291422477573349939147888701726368864263907759003154226842927906974559841225476930271954604008012215776252176854255965356903506788725264321896264299365204576448830388909753943489625436053225980776521270822437639449120128678675368305712293681943649956460498166450227716500185176546469340112226034729724066333258583506870150169794168850353752137554910289126407157154830282284937952636580145235233156936482233436799254594095276820608062232812387383880817049600000000000000000000000000000000000000000000000000000000000000000000000000\n"
     ]
    }
   ],
   "source": [
    "print(reduce(lambda x,y:x*y, range(1 , n+1)))"
   ]
  },
  {
   "cell_type": "code",
   "execution_count": 80,
   "id": "44b531dc-c520-406f-b506-83ced0e6ea7c",
   "metadata": {
    "tags": []
   },
   "outputs": [],
   "source": [
    "s = [\"ola\" , \"pies\" , \"lokomotywa\" , \"wyraz\"]"
   ]
  },
  {
   "cell_type": "code",
   "execution_count": 81,
   "id": "8ebf2eeb-7cae-4064-aaaf-31e2d0608018",
   "metadata": {
    "tags": []
   },
   "outputs": [
    {
     "name": "stdout",
     "output_type": "stream",
     "text": [
      "['lokomotywa', 'ola', 'pies', 'wyraz']\n"
     ]
    }
   ],
   "source": [
    "print(sorted(s))"
   ]
  },
  {
   "cell_type": "code",
   "execution_count": 82,
   "id": "6ca669df-9e94-4e9d-9458-1cca22397049",
   "metadata": {
    "tags": []
   },
   "outputs": [
    {
     "name": "stdout",
     "output_type": "stream",
     "text": [
      "['ola', 'pies', 'wyraz', 'lokomotywa']\n"
     ]
    }
   ],
   "source": [
    "print(sorted(s , key = lambda i:len(i)))"
   ]
  },
  {
   "cell_type": "code",
   "execution_count": 85,
   "id": "6fc898c2-2f17-4c7f-8357-d51104639bff",
   "metadata": {
    "tags": []
   },
   "outputs": [
    {
     "name": "stdin",
     "output_type": "stream",
     "text": [
      "Podaj liczbę:  123\n"
     ]
    },
    {
     "data": {
      "text/plain": [
       "str"
      ]
     },
     "execution_count": 85,
     "metadata": {},
     "output_type": "execute_result"
    }
   ],
   "source": [
    "a = input(\"Podaj liczbę: \")\n",
    "type(a)"
   ]
  },
  {
   "cell_type": "code",
   "execution_count": 86,
   "id": "c805e06d-8a01-451c-bda7-2d1a83cc6913",
   "metadata": {
    "tags": []
   },
   "outputs": [],
   "source": [
    "a=[1,2,3,4,5]\n",
    "b=[-2,4,2,-1,3]"
   ]
  },
  {
   "cell_type": "code",
   "execution_count": 92,
   "id": "2bf4aab0-722d-40d9-954d-0365310eedc9",
   "metadata": {
    "tags": []
   },
   "outputs": [
    {
     "data": {
      "text/plain": [
       "[-2,\n",
       " 4,\n",
       " 2,\n",
       " -1,\n",
       " 3,\n",
       " -4,\n",
       " 8,\n",
       " 4,\n",
       " -2,\n",
       " 6,\n",
       " -6,\n",
       " 12,\n",
       " 6,\n",
       " -3,\n",
       " 9,\n",
       " -8,\n",
       " 16,\n",
       " 8,\n",
       " -4,\n",
       " 12,\n",
       " -10,\n",
       " 20,\n",
       " 10,\n",
       " -5,\n",
       " 15]"
      ]
     },
     "execution_count": 92,
     "metadata": {},
     "output_type": "execute_result"
    }
   ],
   "source": [
    "c = list((i*j)\n",
    "         for i in a\n",
    "         for j in b)\n",
    "c"
   ]
  },
  {
   "cell_type": "code",
   "execution_count": 93,
   "id": "9891ff23-4d6d-41e0-81ec-1e0860521ab8",
   "metadata": {
    "tags": []
   },
   "outputs": [
    {
     "ename": "SyntaxError",
     "evalue": "expected ':' (2436579074.py, line 1)",
     "output_type": "error",
     "traceback": [
      "\u001b[1;36m  Cell \u001b[1;32mIn[93], line 1\u001b[1;36m\u001b[0m\n\u001b[1;33m    def skal(a , b)\u001b[0m\n\u001b[1;37m                   ^\u001b[0m\n\u001b[1;31mSyntaxError\u001b[0m\u001b[1;31m:\u001b[0m expected ':'\n"
     ]
    }
   ],
   "source": [
    "def skal(a , b)\n",
    "    return reduce(lambda x,y: x*y, map(lambsa x,y:x * y, a , b))"
   ]
  },
  {
   "cell_type": "code",
   "execution_count": 95,
   "id": "7bd27f12-56ed-4faf-a12f-febcf6d2c696",
   "metadata": {
    "tags": []
   },
   "outputs": [
    {
     "name": "stdout",
     "output_type": "stream",
     "text": [
      "23\n"
     ]
    }
   ],
   "source": [
    "print(sum(map(lambda i:i[0]*i[1], zip(a,b))))"
   ]
  },
  {
   "cell_type": "code",
   "execution_count": 98,
   "id": "be5d46b2-1165-4bce-b2ac-83cc81071d25",
   "metadata": {
    "tags": []
   },
   "outputs": [
    {
     "name": "stdout",
     "output_type": "stream",
     "text": [
      "4023\n"
     ]
    }
   ],
   "source": [
    "l = [4, 0, 2 , 3]\n",
    "print(reduce(lambda i,j:i*10+j, l))"
   ]
  },
  {
   "cell_type": "code",
   "execution_count": 99,
   "id": "c0f0ac4a-4054-4c79-8ffc-65c4a17023aa",
   "metadata": {
    "tags": []
   },
   "outputs": [],
   "source": [
    "w = [1,-2,3]\n",
    "x = 1\n"
   ]
  },
  {
   "cell_type": "code",
   "execution_count": null,
   "id": "bcc0c3cb-71f9-490e-ad46-d289d8040fdd",
   "metadata": {},
   "outputs": [],
   "source": [
    " "
   ]
  }
 ],
 "metadata": {
  "kernelspec": {
   "display_name": "Python 3 (ipykernel)",
   "language": "python",
   "name": "python3"
  },
  "language_info": {
   "codemirror_mode": {
    "name": "ipython",
    "version": 3
   },
   "file_extension": ".py",
   "mimetype": "text/x-python",
   "name": "python",
   "nbconvert_exporter": "python",
   "pygments_lexer": "ipython3",
   "version": "3.10.2"
  }
 },
 "nbformat": 4,
 "nbformat_minor": 5
}
