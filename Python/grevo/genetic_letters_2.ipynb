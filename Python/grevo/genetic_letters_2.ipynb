{
  "nbformat": 4,
  "nbformat_minor": 0,
  "metadata": {
    "colab": {
      "provenance": []
    },
    "kernelspec": {
      "name": "python3",
      "display_name": "Python 3"
    },
    "language_info": {
      "name": "python"
    }
  },
  "cells": [
    {
      "cell_type": "code",
      "execution_count": 43,
      "metadata": {
        "id": "NkTYYGO0ort9"
      },
      "outputs": [],
      "source": [
        "import io\n",
        "import numpy as np\n",
        "import pandas as pd\n",
        "from matplotlib import pyplot as plt\n",
        "from google.colab import files"
      ]
    },
    {
      "cell_type": "code",
      "source": [
        "uploaded = files.upload()\n",
        "df = pd.read_csv(io.BytesIO(uploaded['letters.data']), header=None)"
      ],
      "metadata": {
        "colab": {
          "base_uri": "https://localhost:8080/",
          "height": 73
        },
        "id": "BYW63n9pozVr",
        "outputId": "633a0bb9-508a-400e-ca0e-bab4f5cce3f8"
      },
      "execution_count": 44,
      "outputs": [
        {
          "output_type": "display_data",
          "data": {
            "text/plain": [
              "<IPython.core.display.HTML object>"
            ],
            "text/html": [
              "\n",
              "     <input type=\"file\" id=\"files-340c259d-d67f-46fa-a013-9d1040b72aee\" name=\"files[]\" multiple disabled\n",
              "        style=\"border:none\" />\n",
              "     <output id=\"result-340c259d-d67f-46fa-a013-9d1040b72aee\">\n",
              "      Upload widget is only available when the cell has been executed in the\n",
              "      current browser session. Please rerun this cell to enable.\n",
              "      </output>\n",
              "      <script>// Copyright 2017 Google LLC\n",
              "//\n",
              "// Licensed under the Apache License, Version 2.0 (the \"License\");\n",
              "// you may not use this file except in compliance with the License.\n",
              "// You may obtain a copy of the License at\n",
              "//\n",
              "//      http://www.apache.org/licenses/LICENSE-2.0\n",
              "//\n",
              "// Unless required by applicable law or agreed to in writing, software\n",
              "// distributed under the License is distributed on an \"AS IS\" BASIS,\n",
              "// WITHOUT WARRANTIES OR CONDITIONS OF ANY KIND, either express or implied.\n",
              "// See the License for the specific language governing permissions and\n",
              "// limitations under the License.\n",
              "\n",
              "/**\n",
              " * @fileoverview Helpers for google.colab Python module.\n",
              " */\n",
              "(function(scope) {\n",
              "function span(text, styleAttributes = {}) {\n",
              "  const element = document.createElement('span');\n",
              "  element.textContent = text;\n",
              "  for (const key of Object.keys(styleAttributes)) {\n",
              "    element.style[key] = styleAttributes[key];\n",
              "  }\n",
              "  return element;\n",
              "}\n",
              "\n",
              "// Max number of bytes which will be uploaded at a time.\n",
              "const MAX_PAYLOAD_SIZE = 100 * 1024;\n",
              "\n",
              "function _uploadFiles(inputId, outputId) {\n",
              "  const steps = uploadFilesStep(inputId, outputId);\n",
              "  const outputElement = document.getElementById(outputId);\n",
              "  // Cache steps on the outputElement to make it available for the next call\n",
              "  // to uploadFilesContinue from Python.\n",
              "  outputElement.steps = steps;\n",
              "\n",
              "  return _uploadFilesContinue(outputId);\n",
              "}\n",
              "\n",
              "// This is roughly an async generator (not supported in the browser yet),\n",
              "// where there are multiple asynchronous steps and the Python side is going\n",
              "// to poll for completion of each step.\n",
              "// This uses a Promise to block the python side on completion of each step,\n",
              "// then passes the result of the previous step as the input to the next step.\n",
              "function _uploadFilesContinue(outputId) {\n",
              "  const outputElement = document.getElementById(outputId);\n",
              "  const steps = outputElement.steps;\n",
              "\n",
              "  const next = steps.next(outputElement.lastPromiseValue);\n",
              "  return Promise.resolve(next.value.promise).then((value) => {\n",
              "    // Cache the last promise value to make it available to the next\n",
              "    // step of the generator.\n",
              "    outputElement.lastPromiseValue = value;\n",
              "    return next.value.response;\n",
              "  });\n",
              "}\n",
              "\n",
              "/**\n",
              " * Generator function which is called between each async step of the upload\n",
              " * process.\n",
              " * @param {string} inputId Element ID of the input file picker element.\n",
              " * @param {string} outputId Element ID of the output display.\n",
              " * @return {!Iterable<!Object>} Iterable of next steps.\n",
              " */\n",
              "function* uploadFilesStep(inputId, outputId) {\n",
              "  const inputElement = document.getElementById(inputId);\n",
              "  inputElement.disabled = false;\n",
              "\n",
              "  const outputElement = document.getElementById(outputId);\n",
              "  outputElement.innerHTML = '';\n",
              "\n",
              "  const pickedPromise = new Promise((resolve) => {\n",
              "    inputElement.addEventListener('change', (e) => {\n",
              "      resolve(e.target.files);\n",
              "    });\n",
              "  });\n",
              "\n",
              "  const cancel = document.createElement('button');\n",
              "  inputElement.parentElement.appendChild(cancel);\n",
              "  cancel.textContent = 'Cancel upload';\n",
              "  const cancelPromise = new Promise((resolve) => {\n",
              "    cancel.onclick = () => {\n",
              "      resolve(null);\n",
              "    };\n",
              "  });\n",
              "\n",
              "  // Wait for the user to pick the files.\n",
              "  const files = yield {\n",
              "    promise: Promise.race([pickedPromise, cancelPromise]),\n",
              "    response: {\n",
              "      action: 'starting',\n",
              "    }\n",
              "  };\n",
              "\n",
              "  cancel.remove();\n",
              "\n",
              "  // Disable the input element since further picks are not allowed.\n",
              "  inputElement.disabled = true;\n",
              "\n",
              "  if (!files) {\n",
              "    return {\n",
              "      response: {\n",
              "        action: 'complete',\n",
              "      }\n",
              "    };\n",
              "  }\n",
              "\n",
              "  for (const file of files) {\n",
              "    const li = document.createElement('li');\n",
              "    li.append(span(file.name, {fontWeight: 'bold'}));\n",
              "    li.append(span(\n",
              "        `(${file.type || 'n/a'}) - ${file.size} bytes, ` +\n",
              "        `last modified: ${\n",
              "            file.lastModifiedDate ? file.lastModifiedDate.toLocaleDateString() :\n",
              "                                    'n/a'} - `));\n",
              "    const percent = span('0% done');\n",
              "    li.appendChild(percent);\n",
              "\n",
              "    outputElement.appendChild(li);\n",
              "\n",
              "    const fileDataPromise = new Promise((resolve) => {\n",
              "      const reader = new FileReader();\n",
              "      reader.onload = (e) => {\n",
              "        resolve(e.target.result);\n",
              "      };\n",
              "      reader.readAsArrayBuffer(file);\n",
              "    });\n",
              "    // Wait for the data to be ready.\n",
              "    let fileData = yield {\n",
              "      promise: fileDataPromise,\n",
              "      response: {\n",
              "        action: 'continue',\n",
              "      }\n",
              "    };\n",
              "\n",
              "    // Use a chunked sending to avoid message size limits. See b/62115660.\n",
              "    let position = 0;\n",
              "    do {\n",
              "      const length = Math.min(fileData.byteLength - position, MAX_PAYLOAD_SIZE);\n",
              "      const chunk = new Uint8Array(fileData, position, length);\n",
              "      position += length;\n",
              "\n",
              "      const base64 = btoa(String.fromCharCode.apply(null, chunk));\n",
              "      yield {\n",
              "        response: {\n",
              "          action: 'append',\n",
              "          file: file.name,\n",
              "          data: base64,\n",
              "        },\n",
              "      };\n",
              "\n",
              "      let percentDone = fileData.byteLength === 0 ?\n",
              "          100 :\n",
              "          Math.round((position / fileData.byteLength) * 100);\n",
              "      percent.textContent = `${percentDone}% done`;\n",
              "\n",
              "    } while (position < fileData.byteLength);\n",
              "  }\n",
              "\n",
              "  // All done.\n",
              "  yield {\n",
              "    response: {\n",
              "      action: 'complete',\n",
              "    }\n",
              "  };\n",
              "}\n",
              "\n",
              "scope.google = scope.google || {};\n",
              "scope.google.colab = scope.google.colab || {};\n",
              "scope.google.colab._files = {\n",
              "  _uploadFiles,\n",
              "  _uploadFilesContinue,\n",
              "};\n",
              "})(self);\n",
              "</script> "
            ]
          },
          "metadata": {}
        },
        {
          "output_type": "stream",
          "name": "stdout",
          "text": [
            "Saving letters.data to letters (1).data\n"
          ]
        }
      ]
    },
    {
      "cell_type": "code",
      "source": [
        "all_pixels = df.iloc[:, :35].values\n",
        "all_outputs = df.iloc[:, 35:].values\n",
        "my_pixels = np.array([])\n",
        "my_outputs = np.array([])\n",
        "example_set = [0, 6, 7, 11, 17, 18, 20, 23, 24, 25]\n",
        "for id in example_set:\n",
        "    my_pixels = np.append(my_pixels, all_pixels[id])\n",
        "    outputs = np.array([])\n",
        "    for id2 in example_set:\n",
        "      outputs = np.append(outputs, all_outputs[id][id2])\n",
        "    my_outputs = np.append(my_outputs, outputs)\n",
        "\n",
        "my_pixels = my_pixels.reshape((-1, 35))\n",
        "my_outputs = my_outputs.reshape((-1, 10))"
      ],
      "metadata": {
        "id": "VHqIEa7To12b"
      },
      "execution_count": 78,
      "outputs": []
    },
    {
      "cell_type": "code",
      "source": [
        "class Genetics:\n",
        "    def __init__(self):\n",
        "        self.elite_percent = 0.1  # Procent najlepszych osobników przechodzących do nowego pokolenia\n",
        "        self.parent_percent = 0.5  # Procent losowo wybranych par rodziców\n",
        "\n",
        "    def fit(self, tests, answers, population_size=2000, iterations=1000):\n",
        "        self.tests = tests\n",
        "        self.answers = answers\n",
        "        self.population_size = population_size\n",
        "        # Obliczanie rozmiaru chromosomu na podstawie danych wejściowych i wyjściowych\n",
        "        self.gen_size = len(answers[0]) * len(tests[0]) + len(answers[0])\n",
        "        self.iterations = iterations\n",
        "        # Geny dla mutacji w zakresie od -1 do 1 z krokiem 0.02\n",
        "        # Wybrałem taką dokładność, która jest wystarczająca do poprawnego aktywowania, a jednocześnie niezbyt duża, aby mutacja była skuteczna\n",
        "        self.possible_genes = np.linspace(-1, 1, num=101)\n",
        "        # Tworzenie populacji losowo za pomocą losowych genów\n",
        "        self.population = np.random.choice(self.possible_genes, size=(self.population_size, self.gen_size))\n",
        "\n",
        "        # Dla wykresu\n",
        "        best = []\n",
        "        avg = []\n",
        "\n",
        "        for iteration in range(self.iterations):\n",
        "            results = self.selection()\n",
        "            best.append(np.max(results))\n",
        "            avg.append(np.mean(results))\n",
        "            if self.evaluation(self.population[0]) == 1.0:\n",
        "                break  # Jeżeli najlepszy osobnik osiągnął maksymalny wynik\n",
        "\n",
        "        plt.plot(best, label='Najlepsze')\n",
        "        plt.plot(avg, label='Średnie')\n",
        "        plt.xlabel('Generacja')\n",
        "        plt.ylabel('Dopasowanie')\n",
        "        plt.title('Wydajność algorytmu genetycznego')\n",
        "        plt.legend()\n",
        "        plt.show()\n",
        "\n",
        "    def evaluation(self, chromosome):\n",
        "        # Przekształcanie jednowymiarowej tablicy chromosomu w macierze\n",
        "        weights = chromosome[:self.gen_size - len(self.answers[0])].reshape(len(self.answers[0]), len(self.tests[0]))\n",
        "        biases = chromosome[self.gen_size - len(self.answers[0]):].reshape(len(self.answers[0]))\n",
        "        accuracy = 0\n",
        "        for i in range(len(self.tests)):\n",
        "            # Obliczanie wartości neuronów\n",
        "            activations = np.dot(weights, self.tests[i].reshape(len(self.tests[0]))) + biases\n",
        "            predictions = np.where(activations >= 0.0, 1, -1)\n",
        "            # Porównywanie z oczekiwanymi wynikami\n",
        "            for item, expected in zip(predictions, self.answers[i]):\n",
        "                if item == expected:\n",
        "                    accuracy += 1\n",
        "        # Zwracanie dokładności osobnika\n",
        "        # Dzielę wszystkie poprawne odpowiedzi przez iloczyn liczby pytań i liczby odpowiedzi w teście,\n",
        "        # aby uzyskać dokładność w zakresie od 0 do 1 (łatwiej analizować na wykresie)\n",
        "        return accuracy / (len(self.tests) * len(predictions))\n",
        "\n",
        "    def selection(self):\n",
        "        # Pobieranie numerów najlepszych osobników\n",
        "        evaluations = [self.evaluation(chromosome) for chromosome in self.population]\n",
        "        sorted_population = np.argsort(evaluations)[::-1]  # Odwracanie tablicy\n",
        "        self.population = self.population[sorted_population]  # Sortowanie głównej tablicy\n",
        "        elite_population = self.population[:int(self.population_size * self.elite_percent)]  # Wybieranie najlepszych 10% całej populacji\n",
        "        new_population = []\n",
        "        for _ in range(int(self.population_size - len(elite_population))):  # Pozostałe osobniki uzyskiwane przez krzyżowanie\n",
        "            # Wybieranie rodziców\n",
        "            parents_id = np.random.choice(int(self.population_size * self.parent_percent), 2, replace=False)\n",
        "            parent1, parent2 = self.population[parents_id[0]], self.population[parents_id[1]]\n",
        "            new_element = []\n",
        "            # Losowe generowanie szansy na mutację i szansy na wybór genu od rodzica\n",
        "            random_choices = np.random.choice([0, 1, 2], size=self.gen_size, p=[0.1, 0.45, 0.45])\n",
        "            for i, choice in enumerate(random_choices):\n",
        "                if choice == 0:\n",
        "                    gene = np.random.choice(self.possible_genes)\n",
        "                elif choice == 1:\n",
        "                    gene = parent1[i]\n",
        "                else:\n",
        "                    gene = parent2[i]\n",
        "                new_element.append(gene)\n",
        "            new_population.append(new_element)\n",
        "        self.population = np.concatenate((elite_population, new_population))  # Nowa populacja\n",
        "        return evaluations\n",
        "\n",
        "    def predict(self, X):\n",
        "        # Funkcja działa prawie tak samo jak funkcja evaluation.\n",
        "        # Zwraca wszystkie predykcje dla najlepszego osobnika\n",
        "        weights = self.population[0][:self.gen_size - len(self.answers[0])].reshape(len(self.answers[0]), len(self.tests[0]))\n",
        "        biases = self.population[0][self.gen_size - len(self.answers[0]):].reshape(len(self.answers[0]))\n",
        "        all_predictions = []\n",
        "        for i in range(len(X)):\n",
        "            activations = np.dot(weights, X[i].reshape(len(X[0]))) + biases\n",
        "            predictions = np.where(activations >= 0.0, 1, -1)\n",
        "            all_predictions.append(predictions)\n",
        "        return all_predictions\n",
        "\n",
        "    def misclassified(self, X, y):\n",
        "        # Funkcja wyświetla wyniki dla najlepszego osobnika\n",
        "        weights = self.population[0][:self.gen_size - len(self.answers[0])].reshape(len(self.answers[0]), len(self.tests[0]))\n",
        "        biases = self.population[0][self.gen_size - len(self.answers[0]):].reshape(len(self.answers[0]))\n",
        "        global_accuracy = 0\n",
        "        for i in range(len(X)):\n",
        "            activations = np.dot(weights, X[i].reshape(len(X[0]))) + biases\n",
        "            predictions = np.where(activations >= 0.0, 1, -1)\n",
        "            accuracy = 0\n",
        "            print(y[i], \" -- \", predictions, end=\"\")  # Wyświetlanie dla czytelności\n",
        "            for item, expected in zip(predictions, y[i]):\n",
        "                if item == expected:\n",
        "                    accuracy += 1\n",
        "            if accuracy != len(self.answers[0]):  # Pokazuje błąd, jeśli jest chociaż jedno niezgodne pytanie\n",
        "                print(\" : \", accuracy, \" (BŁĄD) \")\n",
        "            else:\n",
        "                print(\" : \", accuracy)\n",
        "            global_accuracy += accuracy / len(predictions)\n",
        "        # Wyświetlanie dokładności w zakresie od 0 do 1\n",
        "        return global_accuracy / len(self.tests)\n",
        "\n",
        "\n",
        "def show(X):\n",
        "      fig, axes = plt.subplots(1, 10, figsize=(20,20))\n",
        "      for i, ax in enumerate(axes.flatten()):\n",
        "          image = X[i].reshape(7, 5)\n",
        "          ax.imshow(image, cmap='gray_r')\n",
        "          ax.axis('off')\n",
        "      plt.show()\n",
        "\n",
        "\n",
        "def damage(X,percent,seed = 1):\n",
        "  rgen = np.random.RandomState(seed)\n",
        "  result = np.array(X)\n",
        "  count = int(X.shape[1]*percent/100)\n",
        "  for index_example in range(len(X)):\n",
        "    order = np.sort(rgen.choice(X.shape[1],count,replace = False))\n",
        "    for index_pixel in order:\n",
        "      result[index_example][index_pixel] *=-1\n",
        "  return result"
      ],
      "metadata": {
        "id": "czZGqORvpDqJ"
      },
      "execution_count": 93,
      "outputs": []
    },
    {
      "cell_type": "code",
      "source": [
        "gen = Genetics()\n"
      ],
      "metadata": {
        "id": "81yyAkDnpZTa"
      },
      "execution_count": 95,
      "outputs": []
    },
    {
      "cell_type": "code",
      "source": [
        "damaged5 = damage(my_pixels ,5)\n",
        "damaged15 = damage(my_pixels,15)\n",
        "damaged40 = damage(my_pixels,40)\n"
      ],
      "metadata": {
        "id": "Aok7CRHGptwo"
      },
      "execution_count": 62,
      "outputs": []
    },
    {
      "cell_type": "code",
      "source": [
        "show(my_pixels)"
      ],
      "metadata": {
        "colab": {
          "base_uri": "https://localhost:8080/",
          "height": 200
        },
        "id": "Qm10rtoIrSgF",
        "outputId": "84b2c87c-29ec-4ed8-f85c-ecc2787bcde0"
      },
      "execution_count": 49,
      "outputs": [
        {
          "output_type": "display_data",
          "data": {
            "text/plain": [
              "<Figure size 2000x2000 with 10 Axes>"
            ],
            "image/png": "[encoded data removed]"
          },
          "metadata": {}
        }
      ]
    },
    {
      "cell_type": "code",
      "source": [
        "show(damaged5)"
      ],
      "metadata": {
        "colab": {
          "base_uri": "https://localhost:8080/",
          "height": 200
        },
        "id": "czNa3lJ2rGAj",
        "outputId": "a3608e05-5083-41a1-b4f3-271691fb50ed"
      },
      "execution_count": 50,
      "outputs": [
        {
          "output_type": "display_data",
          "data": {
            "text/plain": [
              "<Figure size 2000x2000 with 10 Axes>"
            ],
            "image/png": "[encoded data removed]"
          },
          "metadata": {}
        }
      ]
    },
    {
      "cell_type": "code",
      "source": [
        "show(damaged15)"
      ],
      "metadata": {
        "colab": {
          "base_uri": "https://localhost:8080/",
          "height": 200
        },
        "id": "_ZO-nooarIay",
        "outputId": "79a12561-4158-467d-ac63-7fb9450a8cad"
      },
      "execution_count": 51,
      "outputs": [
        {
          "output_type": "display_data",
          "data": {
            "text/plain": [
              "<Figure size 2000x2000 with 10 Axes>"
            ],
            "image/png": "[encoded data removed]"
          },
          "metadata": {}
        }
      ]
    },
    {
      "cell_type": "code",
      "source": [
        "show(damaged40)"
      ],
      "metadata": {
        "colab": {
          "base_uri": "https://localhost:8080/",
          "height": 200
        },
        "id": "TrtX5bhlrI8S",
        "outputId": "45abbca5-2474-4ba0-8223-715fb214a99b"
      },
      "execution_count": 52,
      "outputs": [
        {
          "output_type": "display_data",
          "data": {
            "text/plain": [
              "<Figure size 2000x2000 with 10 Axes>"
            ],
            "image/png": "[encoded data removed]"
          },
          "metadata": {}
        }
      ]
    },
    {
      "cell_type": "code",
      "source": [
        "gen.fit(my_pixels,my_outputs)"
      ],
      "metadata": {
        "colab": {
          "base_uri": "https://localhost:8080/",
          "height": 472
        },
        "id": "KkuiurgNrJVQ",
        "outputId": "b2618185-d01a-445a-905d-f6f248ee9b78"
      },
      "execution_count": 96,
      "outputs": [
        {
          "output_type": "display_data",
          "data": {
            "text/plain": [
              "<Figure size 640x480 with 1 Axes>"
            ],
            "image/png": "[encoded data removed]"
          },
          "metadata": {}
        }
      ]
    },
    {
      "cell_type": "code",
      "source": [
        "gen.missclassified(my_pixels, my_outputs)"
      ],
      "metadata": {
        "colab": {
          "base_uri": "https://localhost:8080/"
        },
        "id": "Fx8D6_VjtEmx",
        "outputId": "ee13daf3-054a-47f9-ec79-d54299ba61b7"
      },
      "execution_count": 75,
      "outputs": [
        {
          "output_type": "stream",
          "name": "stdout",
          "text": [
            "[-0.6   0.88 -0.58  0.   -0.78 -0.7   0.28  0.44 -0.18 -0.32 -0.12 -0.68\n",
            "  0.64 -0.12  0.42  0.78  0.88 -0.86 -0.5   0.96 -0.66  0.52  0.34 -0.28\n",
            "  0.44 -0.64 -0.82 -0.06  0.44  0.9   0.66 -0.48 -0.96 -0.66 -0.94 -1.\n",
            " -0.2   0.58  0.66 -0.86 -0.62  0.84  0.4   0.96 -0.46 -0.28  0.76 -0.04\n",
            " -0.4   0.52  0.48  0.54  0.88 -0.08 -0.22  0.96 -0.24  0.02  0.66 -0.94\n",
            "  0.28  0.78  0.76 -0.4  -0.3  -0.42  0.64  0.02  0.88  0.12 -0.2   0.24\n",
            "  0.78 -0.68 -0.02 -0.82  0.82  0.9  -0.16 -0.74  0.44 -0.36 -0.68  0.78\n",
            " -0.12  0.16  0.2  -0.54  0.18 -0.42 -0.86  0.16  0.48  0.34  0.54 -0.56\n",
            " -0.08 -0.52  0.16  0.5   0.26 -0.96  0.   -0.88 -0.5  -0.5   0.18 -0.38\n",
            " -0.28 -0.34 -0.44  0.88  0.74 -0.82 -0.92  0.32  0.58  0.78  0.4  -0.22\n",
            " -0.2   0.14 -0.48 -0.06  0.6   0.6   0.44  0.64  0.22 -0.94  0.74  0.42\n",
            "  0.4  -0.9  -0.66  0.96  0.38  0.24  0.02 -0.28 -0.24  0.76  0.24 -0.1\n",
            "  0.1  -0.08  0.8   0.96  0.74  0.1   0.16 -0.66  0.08 -0.42  1.   -0.72\n",
            "  0.54 -0.92  0.24 -0.66  0.74 -0.24  0.74 -0.08 -0.04  0.04  0.2  -0.5\n",
            "  0.94 -0.82  0.94 -0.04  0.98 -0.4  -0.44 -0.16 -0.44  0.38  0.9   0.82\n",
            " -0.42  0.8  -0.22  0.92 -0.24 -0.36 -0.66 -0.46  0.32  0.26 -0.02  0.98\n",
            " -0.86  0.72 -0.18 -0.58  0.42  0.5   0.96  0.9   0.48 -0.1  -0.28  0.62\n",
            "  0.36  0.08  0.66 -0.56  0.98 -0.38  0.6  -0.62 -0.8  -0.62  0.46 -0.86\n",
            " -0.58  0.02  1.   -0.22  0.88  0.   -0.32 -0.96  0.86  0.32 -0.98  0.\n",
            " -0.36  0.64 -0.92  0.84  1.   -0.14  0.4  -0.52  0.96 -0.3   0.98 -0.72\n",
            " -0.98 -0.02  0.36  0.82 -0.14 -1.   -0.76  0.26 -0.52  0.54  0.4   0.74\n",
            "  0.46  0.7   0.3   0.2   0.2   0.5   0.2  -0.74 -0.28  0.6  -0.94  0.38\n",
            " -0.58  0.02  0.5   0.64  0.48 -0.08  0.52 -0.3  -0.68  0.94  0.98  0.74\n",
            "  0.3  -0.5   0.02  0.06 -0.4   0.62 -0.28 -0.58  0.44 -0.74  0.12  0.64\n",
            "  0.88 -0.98  0.32  0.94  0.5   0.82  0.48 -0.44  0.2   0.3   0.48 -0.86\n",
            " -0.78 -0.06  0.42  0.14 -0.56  0.66  0.26  0.88  0.16  0.1  -0.88  0.02\n",
            " -0.52  0.68 -0.92 -0.9   0.52  0.5   0.46 -0.1  -0.58  0.72 -0.82  0.38\n",
            " -0.24 -0.14  0.   -0.04  0.    0.04  0.44  0.62  0.5  -0.44 -0.06 -0.58\n",
            "  0.86 -0.1   0.88 -0.4  -0.68  0.46  0.7  -0.44  0.18  0.26  0.9  -0.38\n",
            "  0.32 -0.12 -0.6   0.92 -0.88 -1.   -0.48 -0.68 -0.38 -0.78  0.62 -0.3 ]\n",
            "[ 1. -1. -1. -1. -1. -1. -1. -1. -1. -1.]  --  [ 1 -1 -1 -1 -1 -1 -1 -1 -1 -1] :  10\n",
            "[-1.  1. -1. -1. -1. -1. -1. -1. -1. -1.]  --  [-1  1 -1 -1 -1 -1 -1 -1 -1 -1] :  10\n",
            "[-1. -1.  1. -1. -1. -1. -1. -1. -1. -1.]  --  [-1 -1 -1 -1 -1 -1 -1 -1 -1 -1] :  9  (BŁĄD) \n",
            "[-1. -1. -1.  1. -1. -1. -1. -1. -1. -1.]  --  [-1 -1 -1  1 -1 -1 -1 -1 -1 -1] :  10\n",
            "[-1. -1. -1. -1.  1. -1. -1. -1. -1. -1.]  --  [-1 -1 -1 -1  1 -1 -1 -1 -1 -1] :  10\n",
            "[-1. -1. -1. -1. -1.  1. -1. -1. -1. -1.]  --  [-1 -1 -1 -1 -1  1 -1 -1 -1 -1] :  10\n",
            "[-1. -1. -1. -1. -1. -1.  1. -1. -1. -1.]  --  [-1 -1 -1 -1 -1 -1  1 -1 -1 -1] :  10\n",
            "[-1. -1. -1. -1. -1. -1. -1.  1. -1. -1.]  --  [-1 -1 -1 -1 -1 -1 -1  1 -1 -1] :  10\n",
            "[-1. -1. -1. -1. -1. -1. -1. -1.  1. -1.]  --  [-1 -1 -1 -1 -1 -1 -1 -1  1 -1] :  10\n",
            "[-1. -1. -1. -1. -1. -1. -1. -1. -1.  1.]  --  [-1 -1 -1 -1 -1 -1 -1 -1 -1  1] :  10\n"
          ]
        },
        {
          "output_type": "execute_result",
          "data": {
            "text/plain": [
              "0.99"
            ]
          },
          "metadata": {},
          "execution_count": 75
        }
      ]
    },
    {
      "cell_type": "code",
      "source": [
        "gen.predict(my_pixels)"
      ],
      "metadata": {
        "colab": {
          "base_uri": "https://localhost:8080/"
        },
        "id": "KaQ98jvStM55",
        "outputId": "08635496-1c50-4a77-9d09-06abf80400cc"
      },
      "execution_count": 68,
      "outputs": [
        {
          "output_type": "execute_result",
          "data": {
            "text/plain": [
              "[array([ 1, -1, -1, -1, -1, -1, -1, -1, -1, -1]),\n",
              " array([-1,  1, -1, -1, -1, -1, -1, -1, -1, -1]),\n",
              " array([-1, -1,  1, -1, -1, -1, -1, -1, -1, -1]),\n",
              " array([-1, -1, -1,  1, -1, -1, -1, -1, -1, -1]),\n",
              " array([-1, -1, -1, -1,  1, -1, -1, -1, -1, -1]),\n",
              " array([-1, -1, -1, -1, -1,  1, -1, -1, -1, -1]),\n",
              " array([-1, -1, -1, -1, -1, -1, -1, -1, -1, -1]),\n",
              " array([-1, -1, -1, -1, -1, -1, -1, -1, -1, -1]),\n",
              " array([-1, -1, -1, -1, -1, -1, -1, -1,  1, -1]),\n",
              " array([-1, -1, -1, -1, -1, -1, -1, -1, -1,  1])]"
            ]
          },
          "metadata": {},
          "execution_count": 68
        }
      ]
    },
    {
      "cell_type": "code",
      "source": [
        "gen.missclassified(damaged5, my_outputs)"
      ],
      "metadata": {
        "colab": {
          "base_uri": "https://localhost:8080/"
        },
        "id": "sxNnISiktQiM",
        "outputId": "3d16cbfb-2892-4c6c-fdd8-e001c455c9fb"
      },
      "execution_count": 76,
      "outputs": [
        {
          "output_type": "stream",
          "name": "stdout",
          "text": [
            "[-0.6   0.88 -0.58  0.   -0.78 -0.7   0.28  0.44 -0.18 -0.32 -0.12 -0.68\n",
            "  0.64 -0.12  0.42  0.78  0.88 -0.86 -0.5   0.96 -0.66  0.52  0.34 -0.28\n",
            "  0.44 -0.64 -0.82 -0.06  0.44  0.9   0.66 -0.48 -0.96 -0.66 -0.94 -1.\n",
            " -0.2   0.58  0.66 -0.86 -0.62  0.84  0.4   0.96 -0.46 -0.28  0.76 -0.04\n",
            " -0.4   0.52  0.48  0.54  0.88 -0.08 -0.22  0.96 -0.24  0.02  0.66 -0.94\n",
            "  0.28  0.78  0.76 -0.4  -0.3  -0.42  0.64  0.02  0.88  0.12 -0.2   0.24\n",
            "  0.78 -0.68 -0.02 -0.82  0.82  0.9  -0.16 -0.74  0.44 -0.36 -0.68  0.78\n",
            " -0.12  0.16  0.2  -0.54  0.18 -0.42 -0.86  0.16  0.48  0.34  0.54 -0.56\n",
            " -0.08 -0.52  0.16  0.5   0.26 -0.96  0.   -0.88 -0.5  -0.5   0.18 -0.38\n",
            " -0.28 -0.34 -0.44  0.88  0.74 -0.82 -0.92  0.32  0.58  0.78  0.4  -0.22\n",
            " -0.2   0.14 -0.48 -0.06  0.6   0.6   0.44  0.64  0.22 -0.94  0.74  0.42\n",
            "  0.4  -0.9  -0.66  0.96  0.38  0.24  0.02 -0.28 -0.24  0.76  0.24 -0.1\n",
            "  0.1  -0.08  0.8   0.96  0.74  0.1   0.16 -0.66  0.08 -0.42  1.   -0.72\n",
            "  0.54 -0.92  0.24 -0.66  0.74 -0.24  0.74 -0.08 -0.04  0.04  0.2  -0.5\n",
            "  0.94 -0.82  0.94 -0.04  0.98 -0.4  -0.44 -0.16 -0.44  0.38  0.9   0.82\n",
            " -0.42  0.8  -0.22  0.92 -0.24 -0.36 -0.66 -0.46  0.32  0.26 -0.02  0.98\n",
            " -0.86  0.72 -0.18 -0.58  0.42  0.5   0.96  0.9   0.48 -0.1  -0.28  0.62\n",
            "  0.36  0.08  0.66 -0.56  0.98 -0.38  0.6  -0.62 -0.8  -0.62  0.46 -0.86\n",
            " -0.58  0.02  1.   -0.22  0.88  0.   -0.32 -0.96  0.86  0.32 -0.98  0.\n",
            " -0.36  0.64 -0.92  0.84  1.   -0.14  0.4  -0.52  0.96 -0.3   0.98 -0.72\n",
            " -0.98 -0.02  0.36  0.82 -0.14 -1.   -0.76  0.26 -0.52  0.54  0.4   0.74\n",
            "  0.46  0.7   0.3   0.2   0.2   0.5   0.2  -0.74 -0.28  0.6  -0.94  0.38\n",
            " -0.58  0.02  0.5   0.64  0.48 -0.08  0.52 -0.3  -0.68  0.94  0.98  0.74\n",
            "  0.3  -0.5   0.02  0.06 -0.4   0.62 -0.28 -0.58  0.44 -0.74  0.12  0.64\n",
            "  0.88 -0.98  0.32  0.94  0.5   0.82  0.48 -0.44  0.2   0.3   0.48 -0.86\n",
            " -0.78 -0.06  0.42  0.14 -0.56  0.66  0.26  0.88  0.16  0.1  -0.88  0.02\n",
            " -0.52  0.68 -0.92 -0.9   0.52  0.5   0.46 -0.1  -0.58  0.72 -0.82  0.38\n",
            " -0.24 -0.14  0.   -0.04  0.    0.04  0.44  0.62  0.5  -0.44 -0.06 -0.58\n",
            "  0.86 -0.1   0.88 -0.4  -0.68  0.46  0.7  -0.44  0.18  0.26  0.9  -0.38\n",
            "  0.32 -0.12 -0.6   0.92 -0.88 -1.   -0.48 -0.68 -0.38 -0.78  0.62 -0.3 ]\n",
            "[ 1. -1. -1. -1. -1. -1. -1. -1. -1. -1.]  --  [ 1 -1 -1 -1 -1 -1 -1 -1 -1 -1] :  10\n",
            "[-1.  1. -1. -1. -1. -1. -1. -1. -1. -1.]  --  [-1  1 -1 -1 -1 -1 -1 -1 -1 -1] :  10\n",
            "[-1. -1.  1. -1. -1. -1. -1. -1. -1. -1.]  --  [ 1 -1 -1 -1 -1 -1 -1 -1 -1 -1] :  8  (BŁĄD) \n",
            "[-1. -1. -1.  1. -1. -1. -1. -1. -1. -1.]  --  [-1 -1 -1 -1 -1 -1 -1 -1 -1 -1] :  9  (BŁĄD) \n",
            "[-1. -1. -1. -1.  1. -1. -1. -1. -1. -1.]  --  [ 1 -1 -1 -1  1 -1 -1 -1 -1 -1] :  9  (BŁĄD) \n",
            "[-1. -1. -1. -1. -1.  1. -1. -1. -1. -1.]  --  [-1 -1 -1 -1 -1  1 -1 -1 -1 -1] :  10\n",
            "[-1. -1. -1. -1. -1. -1.  1. -1. -1. -1.]  --  [-1 -1 -1 -1 -1 -1  1 -1 -1 -1] :  10\n",
            "[-1. -1. -1. -1. -1. -1. -1.  1. -1. -1.]  --  [-1 -1 -1 -1 -1 -1 -1  1 -1 -1] :  10\n",
            "[-1. -1. -1. -1. -1. -1. -1. -1.  1. -1.]  --  [-1 -1 -1 -1 -1 -1 -1 -1  1 -1] :  10\n",
            "[-1. -1. -1. -1. -1. -1. -1. -1. -1.  1.]  --  [-1 -1 -1 -1 -1 -1 -1 -1 -1  1] :  10\n"
          ]
        },
        {
          "output_type": "execute_result",
          "data": {
            "text/plain": [
              "0.96"
            ]
          },
          "metadata": {},
          "execution_count": 76
        }
      ]
    },
    {
      "cell_type": "code",
      "source": [
        "gen.missclassified(damaged15, my_outputs)"
      ],
      "metadata": {
        "colab": {
          "base_uri": "https://localhost:8080/"
        },
        "id": "IRgnViMQtVxo",
        "outputId": "b0f0594a-15d6-41d0-ff7c-e3be7c4ed40a"
      },
      "execution_count": 77,
      "outputs": [
        {
          "output_type": "stream",
          "name": "stdout",
          "text": [
            "[-0.6   0.88 -0.58  0.   -0.78 -0.7   0.28  0.44 -0.18 -0.32 -0.12 -0.68\n",
            "  0.64 -0.12  0.42  0.78  0.88 -0.86 -0.5   0.96 -0.66  0.52  0.34 -0.28\n",
            "  0.44 -0.64 -0.82 -0.06  0.44  0.9   0.66 -0.48 -0.96 -0.66 -0.94 -1.\n",
            " -0.2   0.58  0.66 -0.86 -0.62  0.84  0.4   0.96 -0.46 -0.28  0.76 -0.04\n",
            " -0.4   0.52  0.48  0.54  0.88 -0.08 -0.22  0.96 -0.24  0.02  0.66 -0.94\n",
            "  0.28  0.78  0.76 -0.4  -0.3  -0.42  0.64  0.02  0.88  0.12 -0.2   0.24\n",
            "  0.78 -0.68 -0.02 -0.82  0.82  0.9  -0.16 -0.74  0.44 -0.36 -0.68  0.78\n",
            " -0.12  0.16  0.2  -0.54  0.18 -0.42 -0.86  0.16  0.48  0.34  0.54 -0.56\n",
            " -0.08 -0.52  0.16  0.5   0.26 -0.96  0.   -0.88 -0.5  -0.5   0.18 -0.38\n",
            " -0.28 -0.34 -0.44  0.88  0.74 -0.82 -0.92  0.32  0.58  0.78  0.4  -0.22\n",
            " -0.2   0.14 -0.48 -0.06  0.6   0.6   0.44  0.64  0.22 -0.94  0.74  0.42\n",
            "  0.4  -0.9  -0.66  0.96  0.38  0.24  0.02 -0.28 -0.24  0.76  0.24 -0.1\n",
            "  0.1  -0.08  0.8   0.96  0.74  0.1   0.16 -0.66  0.08 -0.42  1.   -0.72\n",
            "  0.54 -0.92  0.24 -0.66  0.74 -0.24  0.74 -0.08 -0.04  0.04  0.2  -0.5\n",
            "  0.94 -0.82  0.94 -0.04  0.98 -0.4  -0.44 -0.16 -0.44  0.38  0.9   0.82\n",
            " -0.42  0.8  -0.22  0.92 -0.24 -0.36 -0.66 -0.46  0.32  0.26 -0.02  0.98\n",
            " -0.86  0.72 -0.18 -0.58  0.42  0.5   0.96  0.9   0.48 -0.1  -0.28  0.62\n",
            "  0.36  0.08  0.66 -0.56  0.98 -0.38  0.6  -0.62 -0.8  -0.62  0.46 -0.86\n",
            " -0.58  0.02  1.   -0.22  0.88  0.   -0.32 -0.96  0.86  0.32 -0.98  0.\n",
            " -0.36  0.64 -0.92  0.84  1.   -0.14  0.4  -0.52  0.96 -0.3   0.98 -0.72\n",
            " -0.98 -0.02  0.36  0.82 -0.14 -1.   -0.76  0.26 -0.52  0.54  0.4   0.74\n",
            "  0.46  0.7   0.3   0.2   0.2   0.5   0.2  -0.74 -0.28  0.6  -0.94  0.38\n",
            " -0.58  0.02  0.5   0.64  0.48 -0.08  0.52 -0.3  -0.68  0.94  0.98  0.74\n",
            "  0.3  -0.5   0.02  0.06 -0.4   0.62 -0.28 -0.58  0.44 -0.74  0.12  0.64\n",
            "  0.88 -0.98  0.32  0.94  0.5   0.82  0.48 -0.44  0.2   0.3   0.48 -0.86\n",
            " -0.78 -0.06  0.42  0.14 -0.56  0.66  0.26  0.88  0.16  0.1  -0.88  0.02\n",
            " -0.52  0.68 -0.92 -0.9   0.52  0.5   0.46 -0.1  -0.58  0.72 -0.82  0.38\n",
            " -0.24 -0.14  0.   -0.04  0.    0.04  0.44  0.62  0.5  -0.44 -0.06 -0.58\n",
            "  0.86 -0.1   0.88 -0.4  -0.68  0.46  0.7  -0.44  0.18  0.26  0.9  -0.38\n",
            "  0.32 -0.12 -0.6   0.92 -0.88 -1.   -0.48 -0.68 -0.38 -0.78  0.62 -0.3 ]\n",
            "[ 1. -1. -1. -1. -1. -1. -1. -1. -1. -1.]  --  [-1 -1 -1 -1 -1 -1 -1 -1 -1 -1] :  9  (BŁĄD) \n",
            "[-1.  1. -1. -1. -1. -1. -1. -1. -1. -1.]  --  [ 1  1 -1 -1 -1  1 -1 -1 -1  1] :  7  (BŁĄD) \n",
            "[-1. -1.  1. -1. -1. -1. -1. -1. -1. -1.]  --  [ 1 -1 -1 -1 -1 -1  1 -1 -1 -1] :  7  (BŁĄD) \n",
            "[-1. -1. -1.  1. -1. -1. -1. -1. -1. -1.]  --  [-1  1 -1  1 -1 -1 -1 -1 -1 -1] :  9  (BŁĄD) \n",
            "[-1. -1. -1. -1.  1. -1. -1. -1. -1. -1.]  --  [ 1 -1 -1 -1  1 -1 -1  1  1 -1] :  7  (BŁĄD) \n",
            "[-1. -1. -1. -1. -1.  1. -1. -1. -1. -1.]  --  [-1 -1 -1 -1  1 -1 -1  1 -1 -1] :  7  (BŁĄD) \n",
            "[-1. -1. -1. -1. -1. -1.  1. -1. -1. -1.]  --  [ 1 -1 -1  1  1 -1  1 -1 -1 -1] :  7  (BŁĄD) \n",
            "[-1. -1. -1. -1. -1. -1. -1.  1. -1. -1.]  --  [-1 -1 -1 -1 -1 -1 -1  1 -1 -1] :  10\n",
            "[-1. -1. -1. -1. -1. -1. -1. -1.  1. -1.]  --  [-1 -1 -1 -1 -1 -1 -1 -1  1 -1] :  10\n",
            "[-1. -1. -1. -1. -1. -1. -1. -1. -1.  1.]  --  [-1  1 -1  1 -1 -1 -1 -1 -1  1] :  8  (BŁĄD) \n"
          ]
        },
        {
          "output_type": "execute_result",
          "data": {
            "text/plain": [
              "0.8099999999999999"
            ]
          },
          "metadata": {},
          "execution_count": 77
        }
      ]
    },
    {
      "cell_type": "code",
      "source": [
        "gen.missclassified(damaged40, my_outputs)"
      ],
      "metadata": {
        "colab": {
          "base_uri": "https://localhost:8080/"
        },
        "id": "ZbHTT6Datcjm",
        "outputId": "9ff41fb9-21a7-4343-bea9-af4bebca5c58"
      },
      "execution_count": 71,
      "outputs": [
        {
          "output_type": "stream",
          "name": "stdout",
          "text": [
            "[-0.94  0.92  0.36  0.88 -0.18 -0.12  0.82  0.74 -0.86 -0.54 -0.46  0.98\n",
            "  0.3  -0.44  0.56 -0.72 -0.64 -0.86  0.98  0.46  0.72 -0.18 -0.72  0.42\n",
            " -0.8  -0.8   0.12 -0.68  0.74  0.9   0.32 -0.46 -0.6   0.54  0.76 -0.36\n",
            "  0.74  1.    0.62 -0.28 -0.94 -0.2   0.    0.64 -0.78 -0.22  0.76  0.74\n",
            "  0.44  0.42 -0.7  -1.   -0.48 -0.04  0.68  0.2  -0.06 -0.82 -0.68 -0.08\n",
            " -0.08  0.88  0.16 -0.62 -0.5  -0.82 -0.06 -0.76  0.48 -0.86 -0.14 -0.34\n",
            " -0.66 -0.76  0.44 -0.4   0.1   0.76  0.88 -0.74 -0.72  0.82 -1.   -0.02\n",
            "  0.9  -0.02  0.34 -0.3   0.42  0.64 -0.7   0.12  0.86 -0.34  0.7  -0.72\n",
            "  0.34 -0.76  0.84  0.12 -0.4  -0.04 -0.9  -0.22  0.44  0.74 -0.5  -0.16\n",
            "  0.68 -0.12 -0.7  -0.12  0.92  0.74 -0.88 -0.78  0.2  -0.58 -0.52 -0.88\n",
            " -0.08 -0.1  -0.92  0.32 -0.54 -0.6  -0.96 -0.54  0.94 -0.98 -0.66  0.78\n",
            " -0.84  0.46  0.06 -0.58  0.4  -0.26  0.   -0.28  0.7   0.16  0.54  0.78\n",
            " -0.7   0.24 -0.18  0.96  0.8  -0.66 -0.76  0.88  0.92 -0.4  -0.72 -0.2\n",
            "  0.4  -0.74 -0.22  0.   -0.26 -0.56  0.28 -0.9  -0.42  0.64 -1.   -0.84\n",
            "  0.84  0.8  -0.06 -0.92  0.2   0.12  0.08  0.18 -0.34 -0.4   0.16 -0.9\n",
            " -0.46 -0.4  -0.2   0.34 -0.06  0.84  0.72  0.58  0.94  0.76 -0.02  0.94\n",
            " -0.66  0.88 -0.84 -0.1   0.84  0.7  -0.5   0.76 -0.34  0.3  -0.5   0.32\n",
            "  0.68 -0.68 -0.9   0.2   0.64 -0.44 -0.48 -0.82 -0.72  0.72  0.94  0.54\n",
            "  0.64  0.22  1.   -0.24  0.8   0.56  0.14 -0.96  0.1   0.08  0.54 -0.92\n",
            "  0.44  0.96 -0.68  0.96  0.04  0.1   0.94 -0.7   0.18  1.    0.52 -0.16\n",
            "  0.56 -0.82 -0.56  0.66 -0.18  0.3  -0.52  0.72 -0.22 -0.06 -0.06 -0.04\n",
            "  0.32  0.66 -0.8  -0.96 -0.62 -0.4   0.96 -0.72 -0.38  0.74  0.5  -0.6\n",
            " -0.8   0.92 -0.22  0.08  0.9   0.5  -0.74  0.6   0.    0.6   0.38 -0.1\n",
            "  0.48 -0.98  0.82 -0.38 -0.46 -0.68  0.46 -0.4   0.08  0.24  0.46  0.56\n",
            " -0.44 -0.5  -0.68  0.92 -0.82 -0.04 -0.5  -0.54  0.58 -0.8  -0.64  0.66\n",
            " -0.06 -0.32  0.48  0.42 -0.32  0.36  0.04  0.96  0.34 -0.32 -0.02  0.2\n",
            "  0.5   0.9  -0.9   0.26 -0.08  0.64  0.22  0.16 -0.68  0.32  0.44  0.98\n",
            " -0.84  0.12 -0.24  0.82  0.98 -0.28 -0.88  0.36  0.76 -0.58  0.72  0.8\n",
            "  0.96 -0.36 -0.32 -0.72  0.04  0.24 -0.62  0.04 -0.64  0.46 -0.44 -0.18\n",
            "  0.66  0.1   0.02 -0.32 -0.14 -0.46 -0.92  0.34 -0.5  -0.42  0.5  -0.22]\n",
            "[ 1. -1. -1. -1. -1. -1. -1. -1. -1. -1.]  --  [-1 -1 -1 -1 -1 -1  1 -1  1 -1] :  7  (BŁĄD) \n",
            "[-1.  1. -1. -1. -1. -1. -1. -1. -1. -1.]  --  [-1 -1 -1 -1 -1 -1 -1 -1 -1 -1] :  9  (BŁĄD) \n",
            "[-1. -1.  1. -1. -1. -1. -1. -1. -1. -1.]  --  [-1  1  1 -1 -1  1 -1 -1 -1 -1] :  8  (BŁĄD) \n",
            "[-1. -1. -1.  1. -1. -1. -1. -1. -1. -1.]  --  [ 1  1 -1 -1 -1 -1 -1 -1 -1  1] :  6  (BŁĄD) \n",
            "[-1. -1. -1. -1.  1. -1. -1. -1. -1. -1.]  --  [-1 -1  1 -1  1  1  1 -1 -1 -1] :  7  (BŁĄD) \n",
            "[-1. -1. -1. -1. -1.  1. -1. -1. -1. -1.]  --  [-1 -1 -1  1  1 -1 -1  1  1 -1] :  5  (BŁĄD) \n",
            "[-1. -1. -1. -1. -1. -1.  1. -1. -1. -1.]  --  [-1  1 -1  1 -1 -1 -1 -1  1  1] :  5  (BŁĄD) \n",
            "[-1. -1. -1. -1. -1. -1. -1.  1. -1. -1.]  --  [ 1 -1 -1 -1  1  1  1 -1 -1  1] :  4  (BŁĄD) \n",
            "[-1. -1. -1. -1. -1. -1. -1. -1.  1. -1.]  --  [-1  1  1  1  1 -1 -1  1 -1  1] :  3  (BŁĄD) \n",
            "[-1. -1. -1. -1. -1. -1. -1. -1. -1.  1.]  --  [-1 -1 -1  1 -1  1 -1  1  1  1] :  6  (BŁĄD) \n"
          ]
        },
        {
          "output_type": "execute_result",
          "data": {
            "text/plain": [
              "0.6"
            ]
          },
          "metadata": {},
          "execution_count": 71
        }
      ]
    }
  ]
}