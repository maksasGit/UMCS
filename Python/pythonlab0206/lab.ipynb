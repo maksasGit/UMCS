{
 "cells": [
  {
   "cell_type": "code",
   "execution_count": 2,
   "metadata": {
    "collapsed": true
   },
   "outputs": [],
   "source": [
    "import numpy as np"
   ]
  },
  {
   "cell_type": "code",
   "execution_count": 3,
   "outputs": [
    {
     "data": {
      "text/plain": "array([[1, 2, 3],\n       [4, 5, 6],\n       [7, 8, 9]])"
     },
     "execution_count": 3,
     "metadata": {},
     "output_type": "execute_result"
    }
   ],
   "source": [
    "matrix = np.array([[1,2,3],[4,5,6],[7,8,9]])\n",
    "matrix"
   ],
   "metadata": {
    "collapsed": false
   }
  },
  {
   "cell_type": "code",
   "execution_count": 7,
   "outputs": [
    {
     "data": {
      "text/plain": "array([[  1,   2,   3,   4,   5,   6,   7,   8,   9,  10,  11,  12,  13,\n         14,  15,  16,  17,  18,  19,  20],\n       [  2,   4,   6,   8,  10,  12,  14,  16,  18,  20,  22,  24,  26,\n         28,  30,  32,  34,  36,  38,  40],\n       [  3,   6,   9,  12,  15,  18,  21,  24,  27,  30,  33,  36,  39,\n         42,  45,  48,  51,  54,  57,  60],\n       [  4,   8,  12,  16,  20,  24,  28,  32,  36,  40,  44,  48,  52,\n         56,  60,  64,  68,  72,  76,  80],\n       [  5,  10,  15,  20,  25,  30,  35,  40,  45,  50,  55,  60,  65,\n         70,  75,  80,  85,  90,  95, 100],\n       [  6,  12,  18,  24,  30,  36,  42,  48,  54,  60,  66,  72,  78,\n         84,  90,  96, 102, 108, 114, 120],\n       [  7,  14,  21,  28,  35,  42,  49,  56,  63,  70,  77,  84,  91,\n         98, 105, 112, 119, 126, 133, 140],\n       [  8,  16,  24,  32,  40,  48,  56,  64,  72,  80,  88,  96, 104,\n        112, 120, 128, 136, 144, 152, 160],\n       [  9,  18,  27,  36,  45,  54,  63,  72,  81,  90,  99, 108, 117,\n        126, 135, 144, 153, 162, 171, 180],\n       [ 10,  20,  30,  40,  50,  60,  70,  80,  90, 100, 110, 120, 130,\n        140, 150, 160, 170, 180, 190, 200]])"
     },
     "execution_count": 7,
     "metadata": {},
     "output_type": "execute_result"
    }
   ],
   "source": [
    "matrix = np.array([[i*j for i in range(1,21)] for j in range(1 , 11)])\n",
    "matrix"
   ],
   "metadata": {
    "collapsed": false
   }
  },
  {
   "cell_type": "code",
   "execution_count": 18,
   "outputs": [
    {
     "data": {
      "text/plain": "[array([[ 1],\n        [ 2],\n        [ 3],\n        [ 4],\n        [ 5],\n        [ 6],\n        [ 7],\n        [ 8],\n        [ 9],\n        [10]]),\n array([[ 2,  3],\n        [ 4,  6],\n        [ 6,  9],\n        [ 8, 12],\n        [10, 15],\n        [12, 18],\n        [14, 21],\n        [16, 24],\n        [18, 27],\n        [20, 30]]),\n array([[ 4,  5],\n        [ 8, 10],\n        [12, 15],\n        [16, 20],\n        [20, 25],\n        [24, 30],\n        [28, 35],\n        [32, 40],\n        [36, 45],\n        [40, 50]]),\n array([[ 6,  7],\n        [12, 14],\n        [18, 21],\n        [24, 28],\n        [30, 35],\n        [36, 42],\n        [42, 49],\n        [48, 56],\n        [54, 63],\n        [60, 70]]),\n array([[ 8,  9],\n        [16, 18],\n        [24, 27],\n        [32, 36],\n        [40, 45],\n        [48, 54],\n        [56, 63],\n        [64, 72],\n        [72, 81],\n        [80, 90]]),\n array([[ 10],\n        [ 20],\n        [ 30],\n        [ 40],\n        [ 50],\n        [ 60],\n        [ 70],\n        [ 80],\n        [ 90],\n        [100]]),\n array([[ 11,  12],\n        [ 22,  24],\n        [ 33,  36],\n        [ 44,  48],\n        [ 55,  60],\n        [ 66,  72],\n        [ 77,  84],\n        [ 88,  96],\n        [ 99, 108],\n        [110, 120]]),\n array([[ 13,  14],\n        [ 26,  28],\n        [ 39,  42],\n        [ 52,  56],\n        [ 65,  70],\n        [ 78,  84],\n        [ 91,  98],\n        [104, 112],\n        [117, 126],\n        [130, 140]]),\n array([[ 15,  16],\n        [ 30,  32],\n        [ 45,  48],\n        [ 60,  64],\n        [ 75,  80],\n        [ 90,  96],\n        [105, 112],\n        [120, 128],\n        [135, 144],\n        [150, 160]]),\n array([[ 17,  18],\n        [ 34,  36],\n        [ 51,  54],\n        [ 68,  72],\n        [ 85,  90],\n        [102, 108],\n        [119, 126],\n        [136, 144],\n        [153, 162],\n        [170, 180]]),\n array([[ 19,  20],\n        [ 38,  40],\n        [ 57,  60],\n        [ 76,  80],\n        [ 95, 100],\n        [114, 120],\n        [133, 140],\n        [152, 160],\n        [171, 180],\n        [190, 200]])]"
     },
     "execution_count": 18,
     "metadata": {},
     "output_type": "execute_result"
    }
   ],
   "source": [
    "parts = 11\n",
    "s = matrix.shape\n",
    "splitParts = [matrix[:,i*s[1]//parts:(i+1)*s[1]//parts] for i in range(parts)]\n",
    "splitParts"
   ],
   "metadata": {
    "collapsed": false
   }
  },
  {
   "cell_type": "code",
   "execution_count": null,
   "outputs": [],
   "source": [
    "l = splitParts"
   ],
   "metadata": {
    "collapsed": false
   }
  }
 ],
 "metadata": {
  "kernelspec": {
   "display_name": "Python 3",
   "language": "python",
   "name": "python3"
  },
  "language_info": {
   "codemirror_mode": {
    "name": "ipython",
    "version": 2
   },
   "file_extension": ".py",
   "mimetype": "text/x-python",
   "name": "python",
   "nbconvert_exporter": "python",
   "pygments_lexer": "ipython2",
   "version": "2.7.6"
  }
 },
 "nbformat": 4,
 "nbformat_minor": 0
}
