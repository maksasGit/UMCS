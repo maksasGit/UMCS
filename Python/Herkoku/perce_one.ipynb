{
  "nbformat": 4,
  "nbformat_minor": 0,
  "metadata": {
    "colab": {
      "provenance": []
    },
    "kernelspec": {
      "name": "python3",
      "display_name": "Python 3"
    },
    "language_info": {
      "name": "python"
    }
  },
  "cells": [
    {
      "cell_type": "code",
      "execution_count": 174,
      "metadata": {
        "id": "AHtrj684IXZt"
      },
      "outputs": [],
      "source": [
        "import matplotlib.pyplot as plt\n",
        "from google.colab import files\n",
        "import numpy as np\n",
        "import io"
      ]
    },
    {
      "cell_type": "markdown",
      "source": [],
      "metadata": {
        "id": "1e06QCw9fLct"
      }
    },
    {
      "cell_type": "markdown",
      "source": [
        " trzebo wybrac plik \"letters.data\""
      ],
      "metadata": {
        "id": "oAx5oW2O_MVa"
      }
    },
    {
      "cell_type": "code",
      "source": [
        "uploaded = files.upload()\n",
        "df = pd.read_csv(io.BytesIO(uploaded['letters.data']), header=None)"
      ],
      "metadata": {
        "colab": {
          "base_uri": "https://localhost:8080/",
          "height": 73
        },
        "id": "H6zBe4h3IqHj",
        "outputId": "63cf9138-d631-4e43-f56e-36f07e167bc2"
      },
      "execution_count": 175,
      "outputs": [
        {
          "output_type": "display_data",
          "data": {
            "text/plain": [
              "<IPython.core.display.HTML object>"
            ],
            "text/html": [
              "\n",
              "     <input type=\"file\" id=\"files-315f28d1-5e03-43a5-9434-52dececb032d\" name=\"files[]\" multiple disabled\n",
              "        style=\"border:none\" />\n",
              "     <output id=\"result-315f28d1-5e03-43a5-9434-52dececb032d\">\n",
              "      Upload widget is only available when the cell has been executed in the\n",
              "      current browser session. Please rerun this cell to enable.\n",
              "      </output>\n",
              "      <script>// Copyright 2017 Google LLC\n",
              "//\n",
              "// Licensed under the Apache License, Version 2.0 (the \"License\");\n",
              "// you may not use this file except in compliance with the License.\n",
              "// You may obtain a copy of the License at\n",
              "//\n",
              "//      http://www.apache.org/licenses/LICENSE-2.0\n",
              "//\n",
              "// Unless required by applicable law or agreed to in writing, software\n",
              "// distributed under the License is distributed on an \"AS IS\" BASIS,\n",
              "// WITHOUT WARRANTIES OR CONDITIONS OF ANY KIND, either express or implied.\n",
              "// See the License for the specific language governing permissions and\n",
              "// limitations under the License.\n",
              "\n",
              "/**\n",
              " * @fileoverview Helpers for google.colab Python module.\n",
              " */\n",
              "(function(scope) {\n",
              "function span(text, styleAttributes = {}) {\n",
              "  const element = document.createElement('span');\n",
              "  element.textContent = text;\n",
              "  for (const key of Object.keys(styleAttributes)) {\n",
              "    element.style[key] = styleAttributes[key];\n",
              "  }\n",
              "  return element;\n",
              "}\n",
              "\n",
              "// Max number of bytes which will be uploaded at a time.\n",
              "const MAX_PAYLOAD_SIZE = 100 * 1024;\n",
              "\n",
              "function _uploadFiles(inputId, outputId) {\n",
              "  const steps = uploadFilesStep(inputId, outputId);\n",
              "  const outputElement = document.getElementById(outputId);\n",
              "  // Cache steps on the outputElement to make it available for the next call\n",
              "  // to uploadFilesContinue from Python.\n",
              "  outputElement.steps = steps;\n",
              "\n",
              "  return _uploadFilesContinue(outputId);\n",
              "}\n",
              "\n",
              "// This is roughly an async generator (not supported in the browser yet),\n",
              "// where there are multiple asynchronous steps and the Python side is going\n",
              "// to poll for completion of each step.\n",
              "// This uses a Promise to block the python side on completion of each step,\n",
              "// then passes the result of the previous step as the input to the next step.\n",
              "function _uploadFilesContinue(outputId) {\n",
              "  const outputElement = document.getElementById(outputId);\n",
              "  const steps = outputElement.steps;\n",
              "\n",
              "  const next = steps.next(outputElement.lastPromiseValue);\n",
              "  return Promise.resolve(next.value.promise).then((value) => {\n",
              "    // Cache the last promise value to make it available to the next\n",
              "    // step of the generator.\n",
              "    outputElement.lastPromiseValue = value;\n",
              "    return next.value.response;\n",
              "  });\n",
              "}\n",
              "\n",
              "/**\n",
              " * Generator function which is called between each async step of the upload\n",
              " * process.\n",
              " * @param {string} inputId Element ID of the input file picker element.\n",
              " * @param {string} outputId Element ID of the output display.\n",
              " * @return {!Iterable<!Object>} Iterable of next steps.\n",
              " */\n",
              "function* uploadFilesStep(inputId, outputId) {\n",
              "  const inputElement = document.getElementById(inputId);\n",
              "  inputElement.disabled = false;\n",
              "\n",
              "  const outputElement = document.getElementById(outputId);\n",
              "  outputElement.innerHTML = '';\n",
              "\n",
              "  const pickedPromise = new Promise((resolve) => {\n",
              "    inputElement.addEventListener('change', (e) => {\n",
              "      resolve(e.target.files);\n",
              "    });\n",
              "  });\n",
              "\n",
              "  const cancel = document.createElement('button');\n",
              "  inputElement.parentElement.appendChild(cancel);\n",
              "  cancel.textContent = 'Cancel upload';\n",
              "  const cancelPromise = new Promise((resolve) => {\n",
              "    cancel.onclick = () => {\n",
              "      resolve(null);\n",
              "    };\n",
              "  });\n",
              "\n",
              "  // Wait for the user to pick the files.\n",
              "  const files = yield {\n",
              "    promise: Promise.race([pickedPromise, cancelPromise]),\n",
              "    response: {\n",
              "      action: 'starting',\n",
              "    }\n",
              "  };\n",
              "\n",
              "  cancel.remove();\n",
              "\n",
              "  // Disable the input element since further picks are not allowed.\n",
              "  inputElement.disabled = true;\n",
              "\n",
              "  if (!files) {\n",
              "    return {\n",
              "      response: {\n",
              "        action: 'complete',\n",
              "      }\n",
              "    };\n",
              "  }\n",
              "\n",
              "  for (const file of files) {\n",
              "    const li = document.createElement('li');\n",
              "    li.append(span(file.name, {fontWeight: 'bold'}));\n",
              "    li.append(span(\n",
              "        `(${file.type || 'n/a'}) - ${file.size} bytes, ` +\n",
              "        `last modified: ${\n",
              "            file.lastModifiedDate ? file.lastModifiedDate.toLocaleDateString() :\n",
              "                                    'n/a'} - `));\n",
              "    const percent = span('0% done');\n",
              "    li.appendChild(percent);\n",
              "\n",
              "    outputElement.appendChild(li);\n",
              "\n",
              "    const fileDataPromise = new Promise((resolve) => {\n",
              "      const reader = new FileReader();\n",
              "      reader.onload = (e) => {\n",
              "        resolve(e.target.result);\n",
              "      };\n",
              "      reader.readAsArrayBuffer(file);\n",
              "    });\n",
              "    // Wait for the data to be ready.\n",
              "    let fileData = yield {\n",
              "      promise: fileDataPromise,\n",
              "      response: {\n",
              "        action: 'continue',\n",
              "      }\n",
              "    };\n",
              "\n",
              "    // Use a chunked sending to avoid message size limits. See b/62115660.\n",
              "    let position = 0;\n",
              "    do {\n",
              "      const length = Math.min(fileData.byteLength - position, MAX_PAYLOAD_SIZE);\n",
              "      const chunk = new Uint8Array(fileData, position, length);\n",
              "      position += length;\n",
              "\n",
              "      const base64 = btoa(String.fromCharCode.apply(null, chunk));\n",
              "      yield {\n",
              "        response: {\n",
              "          action: 'append',\n",
              "          file: file.name,\n",
              "          data: base64,\n",
              "        },\n",
              "      };\n",
              "\n",
              "      let percentDone = fileData.byteLength === 0 ?\n",
              "          100 :\n",
              "          Math.round((position / fileData.byteLength) * 100);\n",
              "      percent.textContent = `${percentDone}% done`;\n",
              "\n",
              "    } while (position < fileData.byteLength);\n",
              "  }\n",
              "\n",
              "  // All done.\n",
              "  yield {\n",
              "    response: {\n",
              "      action: 'complete',\n",
              "    }\n",
              "  };\n",
              "}\n",
              "\n",
              "scope.google = scope.google || {};\n",
              "scope.google.colab = scope.google.colab || {};\n",
              "scope.google.colab._files = {\n",
              "  _uploadFiles,\n",
              "  _uploadFilesContinue,\n",
              "};\n",
              "})(self);\n",
              "</script> "
            ]
          },
          "metadata": {}
        },
        {
          "output_type": "stream",
          "name": "stdout",
          "text": [
            "Saving letters.data to letters (10).data\n"
          ]
        }
      ]
    },
    {
      "cell_type": "code",
      "source": [
        "all_pixels = df.iloc[:, :35].values\n",
        "all_outputs = df.iloc[:, 35:].values\n",
        "my_pixels = np.array([])\n",
        "my_outputs = np.array([])\n",
        "# My set [6, 7, 11, 17, 18, 20, 21, 23, 24, 25]\n",
        "example_set = [6, 7, 11, 17, 18, 20, 21, 23, 24, 25]\n",
        "for id in example_set:\n",
        "    my_pixels = np.append(my_pixels, all_pixels[id])\n",
        "    outputs = np.array([])\n",
        "    for id2 in example_set:\n",
        "      outputs = np.append(outputs, all_outputs[id][id2])\n",
        "    my_outputs = np.append(my_outputs, outputs)\n",
        "\n",
        "my_pixels = my_pixels.reshape((-1, 35))\n",
        "my_outputs = my_outputs.reshape((-1, 10))"
      ],
      "metadata": {
        "id": "pIgTvWjfI313"
      },
      "execution_count": 176,
      "outputs": []
    },
    {
      "cell_type": "code",
      "source": [
        "my_pixels"
      ],
      "metadata": {
        "colab": {
          "base_uri": "https://localhost:8080/"
        },
        "id": "bPhLVTINK8s1",
        "outputId": "f1c2f678-a790-40d8-8cbd-43dda03034a0"
      },
      "execution_count": 177,
      "outputs": [
        {
          "output_type": "execute_result",
          "data": {
            "text/plain": [
              "array([[-1.,  1.,  1.,  1., -1.,  1., -1., -1., -1.,  1.,  1., -1., -1.,\n",
              "        -1., -1.,  1., -1.,  1.,  1.,  1.,  1., -1., -1., -1.,  1.,  1.,\n",
              "        -1., -1., -1.,  1., -1.,  1.,  1.,  1., -1.],\n",
              "       [ 1., -1., -1., -1.,  1.,  1., -1., -1., -1.,  1.,  1., -1., -1.,\n",
              "        -1.,  1.,  1.,  1.,  1.,  1.,  1.,  1., -1., -1., -1.,  1.,  1.,\n",
              "        -1., -1., -1.,  1.,  1., -1., -1., -1.,  1.],\n",
              "       [ 1., -1., -1., -1., -1.,  1., -1., -1., -1., -1.,  1., -1., -1.,\n",
              "        -1., -1.,  1., -1., -1., -1., -1.,  1., -1., -1., -1., -1.,  1.,\n",
              "        -1., -1., -1., -1.,  1.,  1.,  1.,  1.,  1.],\n",
              "       [ 1.,  1.,  1.,  1., -1.,  1., -1., -1., -1.,  1.,  1., -1., -1.,\n",
              "        -1.,  1.,  1.,  1.,  1.,  1., -1.,  1., -1.,  1., -1., -1.,  1.,\n",
              "        -1., -1.,  1., -1.,  1., -1., -1., -1.,  1.],\n",
              "       [-1.,  1.,  1.,  1., -1.,  1., -1., -1., -1.,  1.,  1., -1., -1.,\n",
              "        -1., -1., -1.,  1.,  1.,  1., -1., -1., -1., -1., -1.,  1.,  1.,\n",
              "        -1., -1., -1.,  1., -1.,  1.,  1.,  1., -1.],\n",
              "       [ 1., -1., -1., -1.,  1.,  1., -1., -1., -1.,  1.,  1., -1., -1.,\n",
              "        -1.,  1.,  1., -1., -1., -1.,  1.,  1., -1., -1., -1.,  1.,  1.,\n",
              "        -1., -1., -1.,  1., -1.,  1.,  1.,  1., -1.],\n",
              "       [ 1., -1., -1., -1.,  1.,  1., -1., -1., -1.,  1.,  1., -1., -1.,\n",
              "        -1.,  1.,  1., -1., -1., -1.,  1.,  1., -1., -1., -1.,  1., -1.,\n",
              "         1., -1.,  1., -1., -1., -1.,  1., -1., -1.],\n",
              "       [ 1., -1., -1., -1.,  1.,  1., -1., -1., -1.,  1., -1.,  1., -1.,\n",
              "         1., -1., -1., -1.,  1., -1., -1., -1.,  1., -1.,  1., -1.,  1.,\n",
              "        -1., -1., -1.,  1.,  1., -1., -1., -1.,  1.],\n",
              "       [ 1., -1., -1., -1.,  1.,  1., -1., -1., -1.,  1., -1.,  1., -1.,\n",
              "         1., -1., -1., -1.,  1., -1., -1., -1., -1.,  1., -1., -1., -1.,\n",
              "        -1.,  1., -1., -1., -1., -1.,  1., -1., -1.],\n",
              "       [ 1.,  1.,  1.,  1.,  1., -1., -1., -1., -1.,  1., -1., -1., -1.,\n",
              "         1., -1., -1., -1.,  1., -1., -1., -1.,  1., -1., -1., -1.,  1.,\n",
              "        -1., -1., -1., -1.,  1.,  1.,  1.,  1.,  1.]])"
            ]
          },
          "metadata": {},
          "execution_count": 177
        }
      ]
    },
    {
      "cell_type": "markdown",
      "source": [
        "Inputs"
      ],
      "metadata": {
        "id": "ToQk5jldqGA2"
      }
    },
    {
      "cell_type": "code",
      "source": [
        "my_outputs"
      ],
      "metadata": {
        "colab": {
          "base_uri": "https://localhost:8080/"
        },
        "id": "aUJMb_TlLZI7",
        "outputId": "617fbe02-4378-44ad-b414-68c2d3c62152"
      },
      "execution_count": 178,
      "outputs": [
        {
          "output_type": "execute_result",
          "data": {
            "text/plain": [
              "array([[ 1., -1., -1., -1., -1., -1., -1., -1., -1., -1.],\n",
              "       [-1.,  1., -1., -1., -1., -1., -1., -1., -1., -1.],\n",
              "       [-1., -1.,  1., -1., -1., -1., -1., -1., -1., -1.],\n",
              "       [-1., -1., -1.,  1., -1., -1., -1., -1., -1., -1.],\n",
              "       [-1., -1., -1., -1.,  1., -1., -1., -1., -1., -1.],\n",
              "       [-1., -1., -1., -1., -1.,  1., -1., -1., -1., -1.],\n",
              "       [-1., -1., -1., -1., -1., -1.,  1., -1., -1., -1.],\n",
              "       [-1., -1., -1., -1., -1., -1., -1.,  1., -1., -1.],\n",
              "       [-1., -1., -1., -1., -1., -1., -1., -1.,  1., -1.],\n",
              "       [-1., -1., -1., -1., -1., -1., -1., -1., -1.,  1.]])"
            ]
          },
          "metadata": {},
          "execution_count": 178
        }
      ]
    },
    {
      "cell_type": "markdown",
      "source": [
        "Outputs"
      ],
      "metadata": {
        "id": "E_fy8Jb5qHry"
      }
    },
    {
      "cell_type": "code",
      "source": [
        "class Perceptron(object):\n",
        "\n",
        "  def __init__(self, eta = 0.001, n_iter=10, random_state = 1):\n",
        "    self.eta = eta\n",
        "    self.n_iter = n_iter\n",
        "    self.random_state = random_state\n",
        "\n",
        "  def fit(self,X, y):\n",
        "    rgen = np.random.RandomState(self.random_state)\n",
        "    self.w_ = rgen.normal(loc = 0.0, scale = 0.01, size = 1 + X.shape[1])\n",
        "    self.errors_ = []\n",
        "    for _ in range(self.n_iter):\n",
        "      errors = 0\n",
        "      for xi , target in zip(X,y):\n",
        "        update = self.eta * (target - self.predict(xi))\n",
        "        self.w_[1:] += update * xi\n",
        "        self.w_[0] += update\n",
        "        errors += int(update != 0.0)\n",
        "      self.errors_.append(errors)\n",
        "    return self\n",
        "\n",
        "  def net_input(self,X):\n",
        "    return np.dot(X, self.w_[1:]) + self.w_[0]\n",
        "\n",
        "  def predict(self, X):\n",
        "    return np.where(self.net_input(X) >= 0.0, 1, -1)\n",
        "\n",
        "\n",
        "\n",
        "class SLP(object):\n",
        "  def __init__(self, eta=0.001, n_iter=10, random_state=1):\n",
        "    self.eta  = eta\n",
        "    self.n_iter = n_iter\n",
        "    self.random_state = random_state\n",
        "\n",
        "  def fit(self, X, y):\n",
        "    self.errors_ = np.zeros(y[0].shape)\n",
        "    self.perceptrons = [Perceptron(eta=self.eta, n_iter=self.n_iter, random_state=self.random_state) for _ in range(len(X))]\n",
        "    for perceptron, outputs in zip(self.perceptrons, y):\n",
        "      perceptron.fit(X, outputs)\n",
        "      self.errors_ += perceptron.errors_\n",
        "    return self.perceptrons\n",
        "\n",
        "\n",
        "  def predict(self, X):\n",
        "      return [perceptron.predict(X) for perceptron in self.perceptrons]\n",
        "\n",
        "  def misclassified(self, X, y):\n",
        "    slp_out = np.array(self.predict(X))\n",
        "    corr_out = np.array(y)\n",
        "    mistake = np.sum(slp_out != corr_out)\n",
        "    return mistake\n",
        "\n",
        "  def show(self, X):\n",
        "      fig, axes = plt.subplots(1, 10, figsize=(20,20))\n",
        "      for i, ax in enumerate(axes.flatten()):\n",
        "          image = X[i].reshape(7, 5)\n",
        "          ax.imshow(image, cmap='gray_r')\n",
        "          ax.axis('off')\n",
        "      plt.show()\n",
        "\n",
        "\n",
        "\n",
        "def damage(X,percent,seed = 1):\n",
        "  rgen = np.random.RandomState(seed)\n",
        "  result = np.array(X)\n",
        "  count = int(X.shape[1]*percent/100)\n",
        "\n",
        "  for index_example in range(len(X)):\n",
        "    order = np.sort(rgen.choice(X.shape[1],count,replace = False))\n",
        "    for index_pixel in order:\n",
        "      result[index_example][index_pixel] *=-1\n",
        "\n",
        "  return result\n"
      ],
      "metadata": {
        "id": "iuwSAG3fLkTg"
      },
      "execution_count": 179,
      "outputs": []
    },
    {
      "cell_type": "code",
      "source": [
        "net = SLP()"
      ],
      "metadata": {
        "id": "DMVwgsIqLtoW"
      },
      "execution_count": 180,
      "outputs": []
    },
    {
      "cell_type": "code",
      "source": [
        "damaged5 = damage(my_pixels ,5)\n",
        "damaged15 = damage(my_pixels,15)\n",
        "damaged40 = damage(my_pixels,40)"
      ],
      "metadata": {
        "id": "CwdxjsYKtSQ9"
      },
      "execution_count": 181,
      "outputs": []
    },
    {
      "cell_type": "code",
      "source": [
        "net.show(my_pixels)\n"
      ],
      "metadata": {
        "colab": {
          "base_uri": "https://localhost:8080/",
          "height": 200
        },
        "id": "_c_mDWCmLvun",
        "outputId": "43bdd155-272c-4076-f4e7-6b3a07b6c515"
      },
      "execution_count": 182,
      "outputs": [
        {
          "output_type": "display_data",
          "data": {
            "text/plain": [
              "<Figure size 2000x2000 with 10 Axes>"
            ],
            "image/png": "[encoded data removed]"
          },
          "metadata": {}
        }
      ]
    },
    {
      "cell_type": "code",
      "source": [
        "net.show(damaged5)"
      ],
      "metadata": {
        "colab": {
          "base_uri": "https://localhost:8080/",
          "height": 200
        },
        "id": "fouycrDZOvuH",
        "outputId": "41ca05cf-a273-433f-918e-d42e39c3c5c9"
      },
      "execution_count": 183,
      "outputs": [
        {
          "output_type": "display_data",
          "data": {
            "text/plain": [
              "<Figure size 2000x2000 with 10 Axes>"
            ],
            "image/png": "[encoded data removed]"
          },
          "metadata": {}
        }
      ]
    },
    {
      "cell_type": "code",
      "source": [
        "net.show(damaged15)"
      ],
      "metadata": {
        "colab": {
          "base_uri": "https://localhost:8080/",
          "height": 200
        },
        "id": "W2Iq5594O1-q",
        "outputId": "7b36a66e-205b-474b-f7f7-d5885dd1d45d"
      },
      "execution_count": 184,
      "outputs": [
        {
          "output_type": "display_data",
          "data": {
            "text/plain": [
              "<Figure size 2000x2000 with 10 Axes>"
            ],
            "image/png": "[encoded data removed]"
          },
          "metadata": {}
        }
      ]
    },
    {
      "cell_type": "code",
      "source": [
        "net.show(damaged40)"
      ],
      "metadata": {
        "colab": {
          "base_uri": "https://localhost:8080/",
          "height": 200
        },
        "id": "l0jh_DYzO4Di",
        "outputId": "7f63cfc9-5ca4-4906-f5e7-011f659e0ba6"
      },
      "execution_count": 185,
      "outputs": [
        {
          "output_type": "display_data",
          "data": {
            "text/plain": [
              "<Figure size 2000x2000 with 10 Axes>"
            ],
            "image/png": "[encoded data removed]"
          },
          "metadata": {}
        }
      ]
    },
    {
      "cell_type": "code",
      "source": [
        "net.fit(my_pixels,my_outputs)"
      ],
      "metadata": {
        "colab": {
          "base_uri": "https://localhost:8080/"
        },
        "id": "OBgmGhhksm8g",
        "outputId": "5ba9f97e-34e0-419a-d60d-a8f00a6cfbcb"
      },
      "execution_count": 186,
      "outputs": [
        {
          "output_type": "execute_result",
          "data": {
            "text/plain": [
              "[<__main__.Perceptron at 0x7f75eaae4340>,\n",
              " <__main__.Perceptron at 0x7f75eaae4190>,\n",
              " <__main__.Perceptron at 0x7f75eaae4130>,\n",
              " <__main__.Perceptron at 0x7f75eaae4370>,\n",
              " <__main__.Perceptron at 0x7f75eaae47c0>,\n",
              " <__main__.Perceptron at 0x7f75eaae4910>,\n",
              " <__main__.Perceptron at 0x7f75eaae4550>,\n",
              " <__main__.Perceptron at 0x7f75eaae4670>,\n",
              " <__main__.Perceptron at 0x7f75eaae4580>,\n",
              " <__main__.Perceptron at 0x7f75eaae45e0>]"
            ]
          },
          "metadata": {},
          "execution_count": 186
        }
      ]
    },
    {
      "cell_type": "code",
      "source": [
        "net.errors_"
      ],
      "metadata": {
        "colab": {
          "base_uri": "https://localhost:8080/"
        },
        "id": "AIcuqu2Uso6C",
        "outputId": "d9e8f7ec-9ff7-4dbf-f982-2c6d11e945d8"
      },
      "execution_count": 187,
      "outputs": [
        {
          "output_type": "execute_result",
          "data": {
            "text/plain": [
              "array([50., 20.,  6.,  3.,  1.,  1.,  0.,  0.,  0.,  0.])"
            ]
          },
          "metadata": {},
          "execution_count": 187
        }
      ]
    },
    {
      "cell_type": "code",
      "source": [
        "net.predict(my_pixels)"
      ],
      "metadata": {
        "colab": {
          "base_uri": "https://localhost:8080/"
        },
        "id": "-JNyxfMTsskB",
        "outputId": "01677980-5fb7-41a6-c87e-a7032ee9602c"
      },
      "execution_count": 188,
      "outputs": [
        {
          "output_type": "execute_result",
          "data": {
            "text/plain": [
              "[array([ 1, -1, -1, -1, -1, -1, -1, -1, -1, -1]),\n",
              " array([-1,  1, -1, -1, -1, -1, -1, -1, -1, -1]),\n",
              " array([-1, -1,  1, -1, -1, -1, -1, -1, -1, -1]),\n",
              " array([-1, -1, -1,  1, -1, -1, -1, -1, -1, -1]),\n",
              " array([-1, -1, -1, -1,  1, -1, -1, -1, -1, -1]),\n",
              " array([-1, -1, -1, -1, -1,  1, -1, -1, -1, -1]),\n",
              " array([-1, -1, -1, -1, -1, -1,  1, -1, -1, -1]),\n",
              " array([-1, -1, -1, -1, -1, -1, -1,  1, -1, -1]),\n",
              " array([-1, -1, -1, -1, -1, -1, -1, -1,  1, -1]),\n",
              " array([-1, -1, -1, -1, -1, -1, -1, -1, -1,  1])]"
            ]
          },
          "metadata": {},
          "execution_count": 188
        }
      ]
    },
    {
      "cell_type": "code",
      "source": [
        "net.misclassified(my_pixels,my_outputs)"
      ],
      "metadata": {
        "colab": {
          "base_uri": "https://localhost:8080/"
        },
        "id": "q838kAYUszAa",
        "outputId": "2b618de7-20ed-4a0d-9ac7-e2a432e5a4e7"
      },
      "execution_count": 189,
      "outputs": [
        {
          "output_type": "execute_result",
          "data": {
            "text/plain": [
              "0"
            ]
          },
          "metadata": {},
          "execution_count": 189
        }
      ]
    },
    {
      "cell_type": "code",
      "source": [
        "net.predict(damaged5)"
      ],
      "metadata": {
        "colab": {
          "base_uri": "https://localhost:8080/"
        },
        "id": "t0ngqe-gO6_F",
        "outputId": "bb433787-ae01-408d-8fd0-b228bb1f767f"
      },
      "execution_count": 190,
      "outputs": [
        {
          "output_type": "execute_result",
          "data": {
            "text/plain": [
              "[array([ 1, -1, -1, -1,  1, -1, -1, -1, -1, -1]),\n",
              " array([-1,  1, -1, -1, -1, -1, -1, -1, -1, -1]),\n",
              " array([-1, -1,  1, -1, -1, -1, -1, -1, -1, -1]),\n",
              " array([-1, -1, -1,  1, -1, -1, -1, -1, -1, -1]),\n",
              " array([-1, -1, -1, -1,  1, -1, -1, -1, -1, -1]),\n",
              " array([-1, -1, -1, -1, -1,  1, -1, -1, -1, -1]),\n",
              " array([-1, -1, -1, -1, -1, -1,  1, -1, -1, -1]),\n",
              " array([-1, -1, -1, -1, -1, -1, -1,  1, -1, -1]),\n",
              " array([-1, -1, -1, -1, -1, -1, -1, -1,  1, -1]),\n",
              " array([-1, -1, -1, -1, -1, -1, -1, -1, -1,  1])]"
            ]
          },
          "metadata": {},
          "execution_count": 190
        }
      ]
    },
    {
      "cell_type": "code",
      "source": [
        "net.misclassified(damaged5,my_outputs)"
      ],
      "metadata": {
        "colab": {
          "base_uri": "https://localhost:8080/"
        },
        "id": "2it4Mz7FPJHu",
        "outputId": "ad56cf36-c962-4c3f-d43b-c96779a4e3d8"
      },
      "execution_count": 191,
      "outputs": [
        {
          "output_type": "execute_result",
          "data": {
            "text/plain": [
              "1"
            ]
          },
          "metadata": {},
          "execution_count": 191
        }
      ]
    },
    {
      "cell_type": "code",
      "source": [
        "net.predict(damaged15)"
      ],
      "metadata": {
        "colab": {
          "base_uri": "https://localhost:8080/"
        },
        "id": "siDbvafxPPgh",
        "outputId": "3b9d372a-bbd2-4ff3-9c9e-d98de84843fe"
      },
      "execution_count": 192,
      "outputs": [
        {
          "output_type": "execute_result",
          "data": {
            "text/plain": [
              "[array([ 1, -1, -1, -1,  1, -1, -1, -1, -1, -1]),\n",
              " array([-1,  1, -1,  1,  1, -1, -1, -1, -1, -1]),\n",
              " array([-1, -1,  1, -1,  1, -1, -1, -1, -1, -1]),\n",
              " array([-1, -1, -1,  1, -1, -1, -1, -1, -1, -1]),\n",
              " array([-1, -1, -1, -1,  1, -1, -1, -1, -1, -1]),\n",
              " array([-1, -1, -1, -1, -1,  1, -1, -1, -1, -1]),\n",
              " array([-1, -1, -1, -1, -1, -1,  1, -1, -1, -1]),\n",
              " array([-1, -1, -1, -1, -1, -1, -1, -1, -1, -1]),\n",
              " array([-1, -1, -1, -1, -1, -1, -1, -1,  1, -1]),\n",
              " array([-1, -1, -1, -1, -1, -1, -1, -1, -1,  1])]"
            ]
          },
          "metadata": {},
          "execution_count": 192
        }
      ]
    },
    {
      "cell_type": "code",
      "source": [
        "net.misclassified(damaged15,my_outputs)"
      ],
      "metadata": {
        "colab": {
          "base_uri": "https://localhost:8080/"
        },
        "id": "bSdFlIZVPW73",
        "outputId": "85bff648-7ae5-4373-ede3-26247abde44a"
      },
      "execution_count": 193,
      "outputs": [
        {
          "output_type": "execute_result",
          "data": {
            "text/plain": [
              "5"
            ]
          },
          "metadata": {},
          "execution_count": 193
        }
      ]
    },
    {
      "cell_type": "code",
      "source": [
        "net.predict(damaged40)"
      ],
      "metadata": {
        "colab": {
          "base_uri": "https://localhost:8080/"
        },
        "id": "dbtEVk4KPcYH",
        "outputId": "29a89e37-9531-4a9e-e5f0-fd56d38ef5ef"
      },
      "execution_count": 194,
      "outputs": [
        {
          "output_type": "execute_result",
          "data": {
            "text/plain": [
              "[array([-1, -1, -1, -1,  1,  1, -1, -1,  1, -1]),\n",
              " array([ 1, -1, -1, -1,  1,  1, -1, -1,  1, -1]),\n",
              " array([ 1, -1,  1,  1,  1,  1,  1, -1,  1,  1]),\n",
              " array([ 1, -1,  1, -1, -1,  1, -1, -1,  1, -1]),\n",
              " array([-1, -1, -1, -1,  1,  1, -1, -1,  1,  1]),\n",
              " array([ 1, -1, -1, -1,  1,  1,  1, -1, -1, -1]),\n",
              " array([ 1, -1, -1, -1, -1,  1,  1, -1,  1, -1]),\n",
              " array([-1, -1, -1, -1, -1,  1, -1, -1,  1, -1]),\n",
              " array([-1, -1,  1, -1,  1,  1, -1, -1,  1, -1]),\n",
              " array([-1, -1, -1, -1, -1,  1, -1, -1,  1,  1])]"
            ]
          },
          "metadata": {},
          "execution_count": 194
        }
      ]
    },
    {
      "cell_type": "code",
      "source": [
        "net.misclassified(damaged40,my_outputs)"
      ],
      "metadata": {
        "colab": {
          "base_uri": "https://localhost:8080/"
        },
        "id": "0D7UYRj9Pe-v",
        "outputId": "ea7b608f-e91a-4f4d-809c-07e1250b9f67"
      },
      "execution_count": 195,
      "outputs": [
        {
          "output_type": "execute_result",
          "data": {
            "text/plain": [
              "38"
            ]
          },
          "metadata": {},
          "execution_count": 195
        }
      ]
    }
  ]
}