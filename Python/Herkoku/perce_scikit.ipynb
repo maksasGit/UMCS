{
  "nbformat": 4,
  "nbformat_minor": 0,
  "metadata": {
    "colab": {
      "provenance": []
    },
    "kernelspec": {
      "name": "python3",
      "display_name": "Python 3"
    },
    "language_info": {
      "name": "python"
    }
  },
  "cells": [
    {
      "cell_type": "code",
      "execution_count": 284,
      "metadata": {
        "id": "AHtrj684IXZt"
      },
      "outputs": [],
      "source": [
        "import matplotlib.pyplot as plt\n",
        "from sklearn.linear_model import Perceptron\n",
        "from google.colab import files\n",
        "import numpy as np\n",
        "import io"
      ]
    },
    {
      "cell_type": "markdown",
      "source": [],
      "metadata": {
        "id": "1e06QCw9fLct"
      }
    },
    {
      "cell_type": "markdown",
      "source": [
        " trzebo wybrac plik \"letters.data\""
      ],
      "metadata": {
        "id": "oAx5oW2O_MVa"
      }
    },
    {
      "cell_type": "code",
      "source": [
        "uploaded = files.upload()\n",
        "df = pd.read_csv(io.BytesIO(uploaded['letters.data']), header=None)"
      ],
      "metadata": {
        "colab": {
          "base_uri": "https://localhost:8080/",
          "height": 73
        },
        "id": "H6zBe4h3IqHj",
        "outputId": "cd071574-94de-4736-a49d-1a20869cd43e"
      },
      "execution_count": 285,
      "outputs": [
        {
          "output_type": "display_data",
          "data": {
            "text/plain": [
              "<IPython.core.display.HTML object>"
            ],
            "text/html": [
              "\n",
              "     <input type=\"file\" id=\"files-abbacfb4-6581-4c8b-8fa7-ffd88fd30131\" name=\"files[]\" multiple disabled\n",
              "        style=\"border:none\" />\n",
              "     <output id=\"result-abbacfb4-6581-4c8b-8fa7-ffd88fd30131\">\n",
              "      Upload widget is only available when the cell has been executed in the\n",
              "      current browser session. Please rerun this cell to enable.\n",
              "      </output>\n",
              "      <script>// Copyright 2017 Google LLC\n",
              "//\n",
              "// Licensed under the Apache License, Version 2.0 (the \"License\");\n",
              "// you may not use this file except in compliance with the License.\n",
              "// You may obtain a copy of the License at\n",
              "//\n",
              "//      http://www.apache.org/licenses/LICENSE-2.0\n",
              "//\n",
              "// Unless required by applicable law or agreed to in writing, software\n",
              "// distributed under the License is distributed on an \"AS IS\" BASIS,\n",
              "// WITHOUT WARRANTIES OR CONDITIONS OF ANY KIND, either express or implied.\n",
              "// See the License for the specific language governing permissions and\n",
              "// limitations under the License.\n",
              "\n",
              "/**\n",
              " * @fileoverview Helpers for google.colab Python module.\n",
              " */\n",
              "(function(scope) {\n",
              "function span(text, styleAttributes = {}) {\n",
              "  const element = document.createElement('span');\n",
              "  element.textContent = text;\n",
              "  for (const key of Object.keys(styleAttributes)) {\n",
              "    element.style[key] = styleAttributes[key];\n",
              "  }\n",
              "  return element;\n",
              "}\n",
              "\n",
              "// Max number of bytes which will be uploaded at a time.\n",
              "const MAX_PAYLOAD_SIZE = 100 * 1024;\n",
              "\n",
              "function _uploadFiles(inputId, outputId) {\n",
              "  const steps = uploadFilesStep(inputId, outputId);\n",
              "  const outputElement = document.getElementById(outputId);\n",
              "  // Cache steps on the outputElement to make it available for the next call\n",
              "  // to uploadFilesContinue from Python.\n",
              "  outputElement.steps = steps;\n",
              "\n",
              "  return _uploadFilesContinue(outputId);\n",
              "}\n",
              "\n",
              "// This is roughly an async generator (not supported in the browser yet),\n",
              "// where there are multiple asynchronous steps and the Python side is going\n",
              "// to poll for completion of each step.\n",
              "// This uses a Promise to block the python side on completion of each step,\n",
              "// then passes the result of the previous step as the input to the next step.\n",
              "function _uploadFilesContinue(outputId) {\n",
              "  const outputElement = document.getElementById(outputId);\n",
              "  const steps = outputElement.steps;\n",
              "\n",
              "  const next = steps.next(outputElement.lastPromiseValue);\n",
              "  return Promise.resolve(next.value.promise).then((value) => {\n",
              "    // Cache the last promise value to make it available to the next\n",
              "    // step of the generator.\n",
              "    outputElement.lastPromiseValue = value;\n",
              "    return next.value.response;\n",
              "  });\n",
              "}\n",
              "\n",
              "/**\n",
              " * Generator function which is called between each async step of the upload\n",
              " * process.\n",
              " * @param {string} inputId Element ID of the input file picker element.\n",
              " * @param {string} outputId Element ID of the output display.\n",
              " * @return {!Iterable<!Object>} Iterable of next steps.\n",
              " */\n",
              "function* uploadFilesStep(inputId, outputId) {\n",
              "  const inputElement = document.getElementById(inputId);\n",
              "  inputElement.disabled = false;\n",
              "\n",
              "  const outputElement = document.getElementById(outputId);\n",
              "  outputElement.innerHTML = '';\n",
              "\n",
              "  const pickedPromise = new Promise((resolve) => {\n",
              "    inputElement.addEventListener('change', (e) => {\n",
              "      resolve(e.target.files);\n",
              "    });\n",
              "  });\n",
              "\n",
              "  const cancel = document.createElement('button');\n",
              "  inputElement.parentElement.appendChild(cancel);\n",
              "  cancel.textContent = 'Cancel upload';\n",
              "  const cancelPromise = new Promise((resolve) => {\n",
              "    cancel.onclick = () => {\n",
              "      resolve(null);\n",
              "    };\n",
              "  });\n",
              "\n",
              "  // Wait for the user to pick the files.\n",
              "  const files = yield {\n",
              "    promise: Promise.race([pickedPromise, cancelPromise]),\n",
              "    response: {\n",
              "      action: 'starting',\n",
              "    }\n",
              "  };\n",
              "\n",
              "  cancel.remove();\n",
              "\n",
              "  // Disable the input element since further picks are not allowed.\n",
              "  inputElement.disabled = true;\n",
              "\n",
              "  if (!files) {\n",
              "    return {\n",
              "      response: {\n",
              "        action: 'complete',\n",
              "      }\n",
              "    };\n",
              "  }\n",
              "\n",
              "  for (const file of files) {\n",
              "    const li = document.createElement('li');\n",
              "    li.append(span(file.name, {fontWeight: 'bold'}));\n",
              "    li.append(span(\n",
              "        `(${file.type || 'n/a'}) - ${file.size} bytes, ` +\n",
              "        `last modified: ${\n",
              "            file.lastModifiedDate ? file.lastModifiedDate.toLocaleDateString() :\n",
              "                                    'n/a'} - `));\n",
              "    const percent = span('0% done');\n",
              "    li.appendChild(percent);\n",
              "\n",
              "    outputElement.appendChild(li);\n",
              "\n",
              "    const fileDataPromise = new Promise((resolve) => {\n",
              "      const reader = new FileReader();\n",
              "      reader.onload = (e) => {\n",
              "        resolve(e.target.result);\n",
              "      };\n",
              "      reader.readAsArrayBuffer(file);\n",
              "    });\n",
              "    // Wait for the data to be ready.\n",
              "    let fileData = yield {\n",
              "      promise: fileDataPromise,\n",
              "      response: {\n",
              "        action: 'continue',\n",
              "      }\n",
              "    };\n",
              "\n",
              "    // Use a chunked sending to avoid message size limits. See b/62115660.\n",
              "    let position = 0;\n",
              "    do {\n",
              "      const length = Math.min(fileData.byteLength - position, MAX_PAYLOAD_SIZE);\n",
              "      const chunk = new Uint8Array(fileData, position, length);\n",
              "      position += length;\n",
              "\n",
              "      const base64 = btoa(String.fromCharCode.apply(null, chunk));\n",
              "      yield {\n",
              "        response: {\n",
              "          action: 'append',\n",
              "          file: file.name,\n",
              "          data: base64,\n",
              "        },\n",
              "      };\n",
              "\n",
              "      let percentDone = fileData.byteLength === 0 ?\n",
              "          100 :\n",
              "          Math.round((position / fileData.byteLength) * 100);\n",
              "      percent.textContent = `${percentDone}% done`;\n",
              "\n",
              "    } while (position < fileData.byteLength);\n",
              "  }\n",
              "\n",
              "  // All done.\n",
              "  yield {\n",
              "    response: {\n",
              "      action: 'complete',\n",
              "    }\n",
              "  };\n",
              "}\n",
              "\n",
              "scope.google = scope.google || {};\n",
              "scope.google.colab = scope.google.colab || {};\n",
              "scope.google.colab._files = {\n",
              "  _uploadFiles,\n",
              "  _uploadFilesContinue,\n",
              "};\n",
              "})(self);\n",
              "</script> "
            ]
          },
          "metadata": {}
        },
        {
          "output_type": "stream",
          "name": "stdout",
          "text": [
            "Saving letters.data to letters (16).data\n"
          ]
        }
      ]
    },
    {
      "cell_type": "code",
      "source": [
        "all_pixels = df.iloc[:, :35].values\n",
        "all_outputs = df.iloc[:, 35:].values\n",
        "my_pixels = np.array([])\n",
        "my_outputs = np.array([])\n",
        "# My set [6, 7, 11, 17, 18, 20, 21, 23, 24, 25]\n",
        "example_set = [6, 7, 11, 17, 18, 20, 21, 23, 24, 25]\n",
        "for id in example_set:\n",
        "    my_pixels = np.append(my_pixels, all_pixels[id])\n",
        "    outputs = np.array([])\n",
        "    for id2 in example_set:\n",
        "      outputs = np.append(outputs, all_outputs[id][id2])\n",
        "    my_outputs = np.append(my_outputs, outputs)\n",
        "\n",
        "my_pixels = my_pixels.reshape((-1, 35))\n",
        "my_outputs = my_outputs.reshape((-1, 10))"
      ],
      "metadata": {
        "id": "pIgTvWjfI313"
      },
      "execution_count": 286,
      "outputs": []
    },
    {
      "cell_type": "markdown",
      "source": [
        "Get my data set from letters.data"
      ],
      "metadata": {
        "id": "ymMCPKOGqCMv"
      }
    },
    {
      "cell_type": "code",
      "source": [
        "my_pixels"
      ],
      "metadata": {
        "colab": {
          "base_uri": "https://localhost:8080/"
        },
        "id": "bPhLVTINK8s1",
        "outputId": "f94862da-adb2-4c11-88f8-76f53b2dee58"
      },
      "execution_count": 287,
      "outputs": [
        {
          "output_type": "execute_result",
          "data": {
            "text/plain": [
              "array([[-1.,  1.,  1.,  1., -1.,  1., -1., -1., -1.,  1.,  1., -1., -1.,\n",
              "        -1., -1.,  1., -1.,  1.,  1.,  1.,  1., -1., -1., -1.,  1.,  1.,\n",
              "        -1., -1., -1.,  1., -1.,  1.,  1.,  1., -1.],\n",
              "       [ 1., -1., -1., -1.,  1.,  1., -1., -1., -1.,  1.,  1., -1., -1.,\n",
              "        -1.,  1.,  1.,  1.,  1.,  1.,  1.,  1., -1., -1., -1.,  1.,  1.,\n",
              "        -1., -1., -1.,  1.,  1., -1., -1., -1.,  1.],\n",
              "       [ 1., -1., -1., -1., -1.,  1., -1., -1., -1., -1.,  1., -1., -1.,\n",
              "        -1., -1.,  1., -1., -1., -1., -1.,  1., -1., -1., -1., -1.,  1.,\n",
              "        -1., -1., -1., -1.,  1.,  1.,  1.,  1.,  1.],\n",
              "       [ 1.,  1.,  1.,  1., -1.,  1., -1., -1., -1.,  1.,  1., -1., -1.,\n",
              "        -1.,  1.,  1.,  1.,  1.,  1., -1.,  1., -1.,  1., -1., -1.,  1.,\n",
              "        -1., -1.,  1., -1.,  1., -1., -1., -1.,  1.],\n",
              "       [-1.,  1.,  1.,  1., -1.,  1., -1., -1., -1.,  1.,  1., -1., -1.,\n",
              "        -1., -1., -1.,  1.,  1.,  1., -1., -1., -1., -1., -1.,  1.,  1.,\n",
              "        -1., -1., -1.,  1., -1.,  1.,  1.,  1., -1.],\n",
              "       [ 1., -1., -1., -1.,  1.,  1., -1., -1., -1.,  1.,  1., -1., -1.,\n",
              "        -1.,  1.,  1., -1., -1., -1.,  1.,  1., -1., -1., -1.,  1.,  1.,\n",
              "        -1., -1., -1.,  1., -1.,  1.,  1.,  1., -1.],\n",
              "       [ 1., -1., -1., -1.,  1.,  1., -1., -1., -1.,  1.,  1., -1., -1.,\n",
              "        -1.,  1.,  1., -1., -1., -1.,  1.,  1., -1., -1., -1.,  1., -1.,\n",
              "         1., -1.,  1., -1., -1., -1.,  1., -1., -1.],\n",
              "       [ 1., -1., -1., -1.,  1.,  1., -1., -1., -1.,  1., -1.,  1., -1.,\n",
              "         1., -1., -1., -1.,  1., -1., -1., -1.,  1., -1.,  1., -1.,  1.,\n",
              "        -1., -1., -1.,  1.,  1., -1., -1., -1.,  1.],\n",
              "       [ 1., -1., -1., -1.,  1.,  1., -1., -1., -1.,  1., -1.,  1., -1.,\n",
              "         1., -1., -1., -1.,  1., -1., -1., -1., -1.,  1., -1., -1., -1.,\n",
              "        -1.,  1., -1., -1., -1., -1.,  1., -1., -1.],\n",
              "       [ 1.,  1.,  1.,  1.,  1., -1., -1., -1., -1.,  1., -1., -1., -1.,\n",
              "         1., -1., -1., -1.,  1., -1., -1., -1.,  1., -1., -1., -1.,  1.,\n",
              "        -1., -1., -1., -1.,  1.,  1.,  1.,  1.,  1.]])"
            ]
          },
          "metadata": {},
          "execution_count": 287
        }
      ]
    },
    {
      "cell_type": "code",
      "source": [
        "my_outputs"
      ],
      "metadata": {
        "colab": {
          "base_uri": "https://localhost:8080/"
        },
        "id": "aUJMb_TlLZI7",
        "outputId": "23873ddd-6387-4a79-e5b6-eca9cf45a07b"
      },
      "execution_count": 288,
      "outputs": [
        {
          "output_type": "execute_result",
          "data": {
            "text/plain": [
              "array([[ 1., -1., -1., -1., -1., -1., -1., -1., -1., -1.],\n",
              "       [-1.,  1., -1., -1., -1., -1., -1., -1., -1., -1.],\n",
              "       [-1., -1.,  1., -1., -1., -1., -1., -1., -1., -1.],\n",
              "       [-1., -1., -1.,  1., -1., -1., -1., -1., -1., -1.],\n",
              "       [-1., -1., -1., -1.,  1., -1., -1., -1., -1., -1.],\n",
              "       [-1., -1., -1., -1., -1.,  1., -1., -1., -1., -1.],\n",
              "       [-1., -1., -1., -1., -1., -1.,  1., -1., -1., -1.],\n",
              "       [-1., -1., -1., -1., -1., -1., -1.,  1., -1., -1.],\n",
              "       [-1., -1., -1., -1., -1., -1., -1., -1.,  1., -1.],\n",
              "       [-1., -1., -1., -1., -1., -1., -1., -1., -1.,  1.]])"
            ]
          },
          "metadata": {},
          "execution_count": 288
        }
      ]
    },
    {
      "cell_type": "markdown",
      "source": [
        "Outputs"
      ],
      "metadata": {
        "id": "E_fy8Jb5qHry"
      }
    },
    {
      "cell_type": "code",
      "source": [
        "class SLP(object):\n",
        "    def __init__(self, eta=0.001, n_iter=10, random_state=1):\n",
        "        self.eta = eta\n",
        "        self.n_iter = n_iter\n",
        "        self.random_state = random_state\n",
        "\n",
        "    def fit(self, X, y):\n",
        "        self.perceptrons = [Perceptron(eta0=self.eta, max_iter=self.n_iter, random_state=self.random_state) for _ in range(len(X))]\n",
        "        for perceptron, outputs in zip(self.perceptrons, y):\n",
        "            perceptron.fit(X, outputs)\n",
        "        return self.perceptrons\n",
        "\n",
        "    def predict(self, X):\n",
        "        return [perceptron.predict(X) for perceptron in self.perceptrons]\n",
        "\n",
        "    def misclassified(self, X, y):\n",
        "        slp_out = np.array(self.predict(X))\n",
        "        corr_out = np.array(y)\n",
        "        mistake = np.sum(slp_out != corr_out)\n",
        "        return mistake\n",
        "\n",
        "    def show(self, X):\n",
        "      fig, axes = plt.subplots(1, 10, figsize=(20,20))\n",
        "      for i, ax in enumerate(axes.flatten()):\n",
        "          image = X[i].reshape(7, 5)\n",
        "          ax.imshow(image, cmap='gray_r')\n",
        "          ax.axis('off')\n",
        "      plt.show()\n",
        "\n",
        "\n",
        "\n",
        "def damage(X,percent,seed = 1):\n",
        "  rgen = np.random.RandomState(seed)\n",
        "  result = np.array(X)\n",
        "  count = int(X.shape[1]*percent/100)\n",
        "  \n",
        "  for index_example in range(len(X)):\n",
        "    order = np.sort(rgen.choice(X.shape[1],count,replace = False))\n",
        "    for index_pixel in order:\n",
        "      result[index_example][index_pixel] *=-1\n",
        "\n",
        "  return result\n"
      ],
      "metadata": {
        "id": "iuwSAG3fLkTg"
      },
      "execution_count": 289,
      "outputs": []
    },
    {
      "cell_type": "code",
      "source": [
        "net = SLP()"
      ],
      "metadata": {
        "id": "DMVwgsIqLtoW"
      },
      "execution_count": 290,
      "outputs": []
    },
    {
      "cell_type": "code",
      "source": [
        "damaged5 = damage(my_pixels ,5)\n",
        "damaged15 = damage(my_pixels,15)\n",
        "damaged40 = damage(my_pixels,40)"
      ],
      "metadata": {
        "id": "CwdxjsYKtSQ9"
      },
      "execution_count": 291,
      "outputs": []
    },
    {
      "cell_type": "code",
      "source": [
        "net.show(my_pixels)\n"
      ],
      "metadata": {
        "colab": {
          "base_uri": "https://localhost:8080/",
          "height": 200
        },
        "id": "_c_mDWCmLvun",
        "outputId": "042a198c-4fb5-430c-9996-61ece2d29ef4"
      },
      "execution_count": 292,
      "outputs": [
        {
          "output_type": "display_data",
          "data": {
            "text/plain": [
              "<Figure size 2000x2000 with 10 Axes>"
            ],
            "image/png": "[encoded data removed]"
          },
          "metadata": {}
        }
      ]
    },
    {
      "cell_type": "code",
      "source": [
        "net.show(damaged5)"
      ],
      "metadata": {
        "colab": {
          "base_uri": "https://localhost:8080/",
          "height": 200
        },
        "id": "fouycrDZOvuH",
        "outputId": "147e741f-65a0-4a93-9660-ba9d3a153bc0"
      },
      "execution_count": 293,
      "outputs": [
        {
          "output_type": "display_data",
          "data": {
            "text/plain": [
              "<Figure size 2000x2000 with 10 Axes>"
            ],
            "image/png": "[encoded data removed]"
          },
          "metadata": {}
        }
      ]
    },
    {
      "cell_type": "code",
      "source": [
        "net.show(damaged15)"
      ],
      "metadata": {
        "colab": {
          "base_uri": "https://localhost:8080/",
          "height": 200
        },
        "id": "W2Iq5594O1-q",
        "outputId": "083689f8-7132-433e-9336-b5ce8a80992a"
      },
      "execution_count": 294,
      "outputs": [
        {
          "output_type": "display_data",
          "data": {
            "text/plain": [
              "<Figure size 2000x2000 with 10 Axes>"
            ],
            "image/png": "[encoded data removed]"
          },
          "metadata": {}
        }
      ]
    },
    {
      "cell_type": "code",
      "source": [
        "net.show(damaged40)"
      ],
      "metadata": {
        "colab": {
          "base_uri": "https://localhost:8080/",
          "height": 200
        },
        "id": "l0jh_DYzO4Di",
        "outputId": "0a5df667-ba8e-4a4d-b8bd-5bcf30f05ba3"
      },
      "execution_count": 295,
      "outputs": [
        {
          "output_type": "display_data",
          "data": {
            "text/plain": [
              "<Figure size 2000x2000 with 10 Axes>"
            ],
            "image/png": "[encoded data removed]"
          },
          "metadata": {}
        }
      ]
    },
    {
      "cell_type": "code",
      "source": [
        "net.fit(my_pixels,my_outputs)"
      ],
      "metadata": {
        "colab": {
          "base_uri": "https://localhost:8080/"
        },
        "id": "OBgmGhhksm8g",
        "outputId": "d4c3c36a-9ef3-42ec-a3bd-5106d29b07a6"
      },
      "execution_count": 296,
      "outputs": [
        {
          "output_type": "execute_result",
          "data": {
            "text/plain": [
              "[Perceptron(eta0=0.001, max_iter=10, random_state=1),\n",
              " Perceptron(eta0=0.001, max_iter=10, random_state=1),\n",
              " Perceptron(eta0=0.001, max_iter=10, random_state=1),\n",
              " Perceptron(eta0=0.001, max_iter=10, random_state=1),\n",
              " Perceptron(eta0=0.001, max_iter=10, random_state=1),\n",
              " Perceptron(eta0=0.001, max_iter=10, random_state=1),\n",
              " Perceptron(eta0=0.001, max_iter=10, random_state=1),\n",
              " Perceptron(eta0=0.001, max_iter=10, random_state=1),\n",
              " Perceptron(eta0=0.001, max_iter=10, random_state=1),\n",
              " Perceptron(eta0=0.001, max_iter=10, random_state=1)]"
            ]
          },
          "metadata": {},
          "execution_count": 296
        }
      ]
    },
    {
      "cell_type": "code",
      "source": [
        "net.predict(my_pixels)"
      ],
      "metadata": {
        "colab": {
          "base_uri": "https://localhost:8080/"
        },
        "id": "-JNyxfMTsskB",
        "outputId": "a3da3af1-f821-41b2-fe8e-13f994878f48"
      },
      "execution_count": 297,
      "outputs": [
        {
          "output_type": "execute_result",
          "data": {
            "text/plain": [
              "[array([ 1., -1., -1., -1., -1., -1., -1., -1., -1., -1.]),\n",
              " array([-1.,  1., -1., -1., -1., -1., -1., -1., -1., -1.]),\n",
              " array([-1., -1.,  1., -1., -1., -1., -1., -1., -1., -1.]),\n",
              " array([-1., -1., -1.,  1., -1., -1., -1., -1., -1., -1.]),\n",
              " array([-1., -1., -1., -1.,  1., -1., -1., -1., -1., -1.]),\n",
              " array([-1., -1., -1., -1., -1.,  1., -1., -1., -1., -1.]),\n",
              " array([-1., -1., -1., -1., -1., -1.,  1., -1., -1., -1.]),\n",
              " array([-1., -1., -1., -1., -1., -1., -1.,  1., -1., -1.]),\n",
              " array([-1., -1., -1., -1., -1., -1., -1., -1.,  1., -1.]),\n",
              " array([-1., -1., -1., -1., -1., -1., -1., -1., -1.,  1.])]"
            ]
          },
          "metadata": {},
          "execution_count": 297
        }
      ]
    },
    {
      "cell_type": "code",
      "source": [
        "net.misclassified(my_pixels,my_outputs)"
      ],
      "metadata": {
        "colab": {
          "base_uri": "https://localhost:8080/"
        },
        "id": "q838kAYUszAa",
        "outputId": "d4121c44-fe51-4daa-f814-aaae59e8ef70"
      },
      "execution_count": 298,
      "outputs": [
        {
          "output_type": "execute_result",
          "data": {
            "text/plain": [
              "0"
            ]
          },
          "metadata": {},
          "execution_count": 298
        }
      ]
    },
    {
      "cell_type": "code",
      "source": [
        "net.predict(damaged5)"
      ],
      "metadata": {
        "colab": {
          "base_uri": "https://localhost:8080/"
        },
        "id": "t0ngqe-gO6_F",
        "outputId": "0760568c-5922-45df-cc7e-f57c02512d81"
      },
      "execution_count": 299,
      "outputs": [
        {
          "output_type": "execute_result",
          "data": {
            "text/plain": [
              "[array([ 1., -1., -1., -1.,  1., -1., -1., -1., -1., -1.]),\n",
              " array([-1., -1., -1., -1., -1., -1., -1., -1., -1., -1.]),\n",
              " array([-1., -1.,  1., -1., -1., -1., -1., -1., -1., -1.]),\n",
              " array([-1., -1., -1.,  1., -1., -1., -1., -1., -1., -1.]),\n",
              " array([-1., -1., -1., -1.,  1., -1., -1., -1., -1., -1.]),\n",
              " array([-1., -1., -1., -1., -1.,  1., -1., -1., -1., -1.]),\n",
              " array([-1., -1., -1., -1., -1., -1.,  1., -1., -1., -1.]),\n",
              " array([-1., -1., -1., -1., -1., -1., -1.,  1., -1., -1.]),\n",
              " array([-1., -1., -1., -1., -1., -1., -1., -1.,  1., -1.]),\n",
              " array([-1., -1., -1., -1., -1., -1., -1., -1.,  1.,  1.])]"
            ]
          },
          "metadata": {},
          "execution_count": 299
        }
      ]
    },
    {
      "cell_type": "code",
      "source": [
        "net.misclassified(damaged5,my_outputs)"
      ],
      "metadata": {
        "colab": {
          "base_uri": "https://localhost:8080/"
        },
        "id": "2it4Mz7FPJHu",
        "outputId": "32e3ff52-8422-4f2e-db53-3eae27ef291f"
      },
      "execution_count": 300,
      "outputs": [
        {
          "output_type": "execute_result",
          "data": {
            "text/plain": [
              "3"
            ]
          },
          "metadata": {},
          "execution_count": 300
        }
      ]
    },
    {
      "cell_type": "code",
      "source": [
        "net.predict(damaged15)"
      ],
      "metadata": {
        "colab": {
          "base_uri": "https://localhost:8080/"
        },
        "id": "siDbvafxPPgh",
        "outputId": "01c8a137-5cd8-4ebc-abb6-961da9deb2e6"
      },
      "execution_count": 301,
      "outputs": [
        {
          "output_type": "execute_result",
          "data": {
            "text/plain": [
              "[array([-1., -1., -1., -1.,  1., -1., -1., -1., -1., -1.]),\n",
              " array([-1., -1., -1., -1., -1., -1., -1., -1., -1., -1.]),\n",
              " array([-1., -1.,  1., -1., -1., -1., -1., -1., -1., -1.]),\n",
              " array([-1., -1., -1.,  1., -1., -1.,  1., -1.,  1., -1.]),\n",
              " array([-1., -1., -1., -1.,  1., -1., -1., -1., -1.,  1.]),\n",
              " array([-1., -1., -1., -1., -1., -1., -1., -1., -1., -1.]),\n",
              " array([-1., -1., -1., -1., -1., -1.,  1., -1., -1., -1.]),\n",
              " array([-1.,  1., -1., -1., -1., -1., -1.,  1., -1., -1.]),\n",
              " array([-1., -1., -1., -1., -1., -1., -1., -1.,  1., -1.]),\n",
              " array([-1., -1., -1., -1., -1., -1., -1., -1.,  1.,  1.])]"
            ]
          },
          "metadata": {},
          "execution_count": 301
        }
      ]
    },
    {
      "cell_type": "code",
      "source": [
        "net.misclassified(damaged15,my_outputs)"
      ],
      "metadata": {
        "colab": {
          "base_uri": "https://localhost:8080/"
        },
        "id": "bSdFlIZVPW73",
        "outputId": "65f8fd45-445d-4825-ba15-e29c7062ce1b"
      },
      "execution_count": 302,
      "outputs": [
        {
          "output_type": "execute_result",
          "data": {
            "text/plain": [
              "9"
            ]
          },
          "metadata": {},
          "execution_count": 302
        }
      ]
    },
    {
      "cell_type": "code",
      "source": [
        "net.predict(damaged40)"
      ],
      "metadata": {
        "colab": {
          "base_uri": "https://localhost:8080/"
        },
        "id": "dbtEVk4KPcYH",
        "outputId": "50d34a68-cc75-4a5a-ef17-f0f35a139101"
      },
      "execution_count": 303,
      "outputs": [
        {
          "output_type": "execute_result",
          "data": {
            "text/plain": [
              "[array([-1., -1., -1., -1., -1.,  1., -1., -1.,  1., -1.]),\n",
              " array([-1., -1., -1., -1.,  1., -1., -1.,  1., -1., -1.]),\n",
              " array([-1., -1., -1.,  1.,  1.,  1.,  1., -1., -1.,  1.]),\n",
              " array([ 1., -1.,  1., -1., -1.,  1., -1., -1.,  1., -1.]),\n",
              " array([-1., -1., -1., -1.,  1., -1., -1., -1., -1.,  1.]),\n",
              " array([-1., -1., -1., -1.,  1.,  1., -1., -1., -1., -1.]),\n",
              " array([-1., -1., -1., -1.,  1., -1.,  1., -1., -1., -1.]),\n",
              " array([-1., -1., -1., -1., -1., -1., -1., -1., -1., -1.]),\n",
              " array([ 1., -1.,  1., -1.,  1.,  1., -1., -1.,  1., -1.]),\n",
              " array([-1., -1., -1., -1., -1., -1., -1., -1.,  1.,  1.])]"
            ]
          },
          "metadata": {},
          "execution_count": 303
        }
      ]
    },
    {
      "cell_type": "code",
      "source": [
        "net.misclassified(damaged40,my_outputs)"
      ],
      "metadata": {
        "colab": {
          "base_uri": "https://localhost:8080/"
        },
        "id": "0D7UYRj9Pe-v",
        "outputId": "65cfb333-4f05-4913-917b-476be013f0a9"
      },
      "execution_count": 304,
      "outputs": [
        {
          "output_type": "execute_result",
          "data": {
            "text/plain": [
              "26"
            ]
          },
          "metadata": {},
          "execution_count": 304
        }
      ]
    }
  ]
}