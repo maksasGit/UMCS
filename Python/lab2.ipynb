{
 "cells": [
  {
   "cell_type": "code",
   "execution_count": 4,
   "id": "70954540-b119-4222-9d47-a4336952375d",
   "metadata": {
    "tags": []
   },
   "outputs": [
    {
     "data": {
      "text/plain": [
       "[1, 9, 25, 49, 81, 121, 169, 225, 289, 361]"
      ]
     },
     "execution_count": 4,
     "metadata": {},
     "output_type": "execute_result"
    }
   ],
   "source": [
    "l = [i**2 for i in range(1,21) if i%2 == 1]\n",
    "l"
   ]
  },
  {
   "cell_type": "code",
   "execution_count": 7,
   "id": "98ec4529-bff0-45d3-be95-65b3a96a86d2",
   "metadata": {
    "tags": []
   },
   "outputs": [
    {
     "data": {
      "text/plain": [
       "['x', 'o', 'x', 'o', 'x', 'o', 'x', 'o', 'x', 'o']"
      ]
     },
     "execution_count": 7,
     "metadata": {},
     "output_type": "execute_result"
    }
   ],
   "source": [
    "l = [\"x\" if i%2 == 0 else \"o\" for i in range(10)]\n",
    "l"
   ]
  },
  {
   "cell_type": "code",
   "execution_count": 12,
   "id": "26a3fe31-86e0-4570-857a-daa94af303b0",
   "metadata": {
    "tags": []
   },
   "outputs": [
    {
     "data": {
      "text/plain": [
       "'x-x--x---x----x-----x------x-------x--------x---------'"
      ]
     },
     "execution_count": 12,
     "metadata": {},
     "output_type": "execute_result"
    }
   ],
   "source": [
    "\"x\".join(\"-\"*i for i in range(10))"
   ]
  },
  {
   "cell_type": "code",
   "execution_count": 13,
   "id": "83d28257-6800-4459-af5d-1abffff74048",
   "metadata": {
    "tags": []
   },
   "outputs": [],
   "source": [
    "k = (i**2 for i in range(10))"
   ]
  },
  {
   "cell_type": "code",
   "execution_count": 14,
   "id": "bb277786-cbf5-4204-a752-7cefbbf5887d",
   "metadata": {
    "tags": []
   },
   "outputs": [
    {
     "data": {
      "text/plain": [
       "generator"
      ]
     },
     "execution_count": 14,
     "metadata": {},
     "output_type": "execute_result"
    }
   ],
   "source": [
    "type(k)"
   ]
  },
  {
   "cell_type": "code",
   "execution_count": 24,
   "id": "b3243306-2952-46b5-ad53-3aba3427a67d",
   "metadata": {
    "tags": []
   },
   "outputs": [
    {
     "data": {
      "text/plain": [
       "[[1, 0, 0, 0, 0, 0, 0, 0, 0, 0],\n",
       " [1, 1, 1, 1, 1, 1, 1, 1, 1, 1],\n",
       " [1, 2, 4, 8, 16, 32, 64, 128, 256, 512],\n",
       " [1, 3, 9, 27, 81, 243, 729, 2187, 6561, 19683],\n",
       " [1, 4, 16, 64, 256, 1024, 4096, 16384, 65536, 262144],\n",
       " [1, 5, 25, 125, 625, 3125, 15625, 78125, 390625, 1953125],\n",
       " [1, 6, 36, 216, 1296, 7776, 46656, 279936, 1679616, 10077696],\n",
       " [1, 7, 49, 343, 2401, 16807, 117649, 823543, 5764801, 40353607],\n",
       " [1, 8, 64, 512, 4096, 32768, 262144, 2097152, 16777216, 134217728],\n",
       " [1, 9, 81, 729, 6561, 59049, 531441, 4782969, 43046721, 387420489]]"
      ]
     },
     "execution_count": 24,
     "metadata": {},
     "output_type": "execute_result"
    }
   ],
   "source": [
    "l = [ [i**j for j in range(10)] for i in range(10)]\n",
    "l"
   ]
  },
  {
   "cell_type": "code",
   "execution_count": 32,
   "id": "1af6c372-7b57-42cf-817d-67d770e5b6a4",
   "metadata": {
    "tags": []
   },
   "outputs": [
    {
     "data": {
      "text/plain": [
       "3"
      ]
     },
     "execution_count": 32,
     "metadata": {},
     "output_type": "execute_result"
    }
   ],
   "source": [
    "d = {\"a\" : 1 , \"b\" : 2 , \"c\" : 3}\n",
    "d.get(\"c\")"
   ]
  },
  {
   "cell_type": "code",
   "execution_count": 33,
   "id": "2c7f6d28-25f7-4151-8b40-3d41e94a3c3a",
   "metadata": {
    "tags": []
   },
   "outputs": [
    {
     "data": {
      "text/plain": [
       "'nie ma'"
      ]
     },
     "execution_count": 33,
     "metadata": {},
     "output_type": "execute_result"
    }
   ],
   "source": [
    "d.get(\"d\" , \"nie ma\")"
   ]
  },
  {
   "cell_type": "code",
   "execution_count": 54,
   "id": "1d8f2c5b-5296-41e7-a0ed-e01f22592aee",
   "metadata": {
    "tags": []
   },
   "outputs": [],
   "source": [
    "text = \"Ala ma kota , pas , chomika i rybki.\""
   ]
  },
  {
   "cell_type": "code",
   "execution_count": 50,
   "id": "44a17fc8-4245-46da-b977-e2bc01ba3f2a",
   "metadata": {
    "tags": []
   },
   "outputs": [
    {
     "data": {
      "text/plain": [
       "{'a': 6,\n",
       " 'l': 1,\n",
       " ' ': 8,\n",
       " 'm': 2,\n",
       " 'k': 3,\n",
       " 'o': 2,\n",
       " 't': 1,\n",
       " ',': 2,\n",
       " 'p': 1,\n",
       " 's': 1,\n",
       " 'c': 1,\n",
       " 'h': 1,\n",
       " 'i': 3,\n",
       " 'r': 1,\n",
       " 'y': 1,\n",
       " 'b': 1,\n",
       " '.': 1}"
      ]
     },
     "execution_count": 50,
     "metadata": {},
     "output_type": "execute_result"
    }
   ],
   "source": [
    "ff = {} \n",
    "for i in text:\n",
    "    pred = ff.get(i , 0)\n",
    "    ff.update({i:pred+1})\n",
    "ff"
   ]
  },
  {
   "cell_type": "code",
   "execution_count": 55,
   "id": "572f96b0-591e-4ce1-8032-3e97905a3967",
   "metadata": {
    "tags": []
   },
   "outputs": [
    {
     "data": {
      "text/plain": [
       "{'A': 1,\n",
       " 'l': 1,\n",
       " 'a': 5,\n",
       " ' ': 8,\n",
       " 'm': 2,\n",
       " 'k': 3,\n",
       " 'o': 2,\n",
       " 't': 1,\n",
       " ',': 2,\n",
       " 'p': 1,\n",
       " 's': 1,\n",
       " 'c': 1,\n",
       " 'h': 1,\n",
       " 'i': 3,\n",
       " 'r': 1,\n",
       " 'y': 1,\n",
       " 'b': 1,\n",
       " '.': 1}"
      ]
     },
     "execution_count": 55,
     "metadata": {},
     "output_type": "execute_result"
    }
   ],
   "source": [
    "d = dict([[i,text.count(i)] for i in text]) \n",
    "d"
   ]
  },
  {
   "cell_type": "code",
   "execution_count": 61,
   "id": "23b72c5a-5661-465e-9df1-eecccf97a4db",
   "metadata": {
    "tags": []
   },
   "outputs": [
    {
     "data": {
      "text/plain": [
       "{'A': 1,\n",
       " 'l': 1,\n",
       " 'a': 5,\n",
       " ' ': 8,\n",
       " 'm': 2,\n",
       " 'k': 3,\n",
       " 'o': 2,\n",
       " 't': 1,\n",
       " ',': 2,\n",
       " 'p': 1,\n",
       " 's': 1,\n",
       " 'c': 1,\n",
       " 'h': 1,\n",
       " 'i': 3,\n",
       " 'r': 1,\n",
       " 'y': 1,\n",
       " 'b': 1,\n",
       " '.': 1}"
      ]
     },
     "execution_count": 61,
     "metadata": {},
     "output_type": "execute_result"
    }
   ],
   "source": [
    "dd = {}\n",
    "for i in text:\n",
    "    if i not in dd.keys():\n",
    "        dd[i] = text.count(i)\n",
    "dd"
   ]
  },
  {
   "cell_type": "code",
   "execution_count": 64,
   "id": "88489a11-0b20-4fac-b290-7816385f1b46",
   "metadata": {
    "tags": []
   },
   "outputs": [
    {
     "data": {
      "text/plain": [
       "'ala ma kota , pas , chomika i rybki.'"
      ]
     },
     "execution_count": 64,
     "metadata": {},
     "output_type": "execute_result"
    }
   ],
   "source": [
    "lower_text = text.lower()\n",
    "lower_text"
   ]
  },
  {
   "cell_type": "code",
   "execution_count": 79,
   "id": "cd6bc79e-c339-4446-a2a9-646678975aac",
   "metadata": {
    "tags": []
   },
   "outputs": [
    {
     "data": {
      "text/plain": [
       "'TGGATCGAAT'"
      ]
     },
     "execution_count": 79,
     "metadata": {},
     "output_type": "execute_result"
    }
   ],
   "source": [
    "dna1 = \"ACCTAGCTTA\"\n",
    "con = {\"A\" : \"T\" , \"C\" : \"G\" , \"T\" : \"A\" , \"G\" : \"C\"}\n",
    "dna2 = \"\".join([con[i] for i in dna1])\n",
    "dna2"
   ]
  },
  {
   "cell_type": "code",
   "execution_count": 91,
   "id": "ffbdb7f4-f2fd-4d83-8731-e1fa8896dbab",
   "metadata": {
    "tags": []
   },
   "outputs": [
    {
     "ename": "KeyError",
     "evalue": "'R'",
     "output_type": "error",
     "traceback": [
      "\u001b[1;31m---------------------------------------------------------------------------\u001b[0m",
      "\u001b[1;31mKeyError\u001b[0m                                  Traceback (most recent call last)",
      "Cell \u001b[1;32mIn[91], line 4\u001b[0m\n\u001b[0;32m      2\u001b[0m dna2 \u001b[38;5;241m=\u001b[39m \u001b[38;5;124m\"\u001b[39m\u001b[38;5;124mTGGATCAAAT\u001b[39m\u001b[38;5;124m\"\u001b[39m\n\u001b[0;32m      3\u001b[0m con \u001b[38;5;241m=\u001b[39m {\u001b[38;5;124m\"\u001b[39m\u001b[38;5;124mA\u001b[39m\u001b[38;5;124m\"\u001b[39m : \u001b[38;5;124m\"\u001b[39m\u001b[38;5;124mT\u001b[39m\u001b[38;5;124m\"\u001b[39m , \u001b[38;5;124m\"\u001b[39m\u001b[38;5;124mC\u001b[39m\u001b[38;5;124m\"\u001b[39m : \u001b[38;5;124m\"\u001b[39m\u001b[38;5;124mG\u001b[39m\u001b[38;5;124m\"\u001b[39m , \u001b[38;5;124m\"\u001b[39m\u001b[38;5;124mT\u001b[39m\u001b[38;5;124m\"\u001b[39m : \u001b[38;5;124m\"\u001b[39m\u001b[38;5;124mA\u001b[39m\u001b[38;5;124m\"\u001b[39m , \u001b[38;5;124m\"\u001b[39m\u001b[38;5;124mG\u001b[39m\u001b[38;5;124m\"\u001b[39m : \u001b[38;5;124m\"\u001b[39m\u001b[38;5;124mC\u001b[39m\u001b[38;5;124m\"\u001b[39m}\n\u001b[1;32m----> 4\u001b[0m conected \u001b[38;5;241m=\u001b[39m \u001b[38;5;124m\"\u001b[39m\u001b[38;5;124m\"\u001b[39m\u001b[38;5;241m.\u001b[39mjoin([\u001b[38;5;124m\"\u001b[39m\u001b[38;5;124m|\u001b[39m\u001b[38;5;124m\"\u001b[39m \u001b[38;5;28;01mif\u001b[39;00m con[dna1[i]] \u001b[38;5;241m==\u001b[39m dna2[i] \u001b[38;5;28;01melse\u001b[39;00m \u001b[38;5;124m\"\u001b[39m\u001b[38;5;124m.\u001b[39m\u001b[38;5;124m\"\u001b[39m \u001b[38;5;28;01mfor\u001b[39;00m i \u001b[38;5;129;01min\u001b[39;00m \u001b[38;5;28mrange\u001b[39m(\u001b[38;5;28mlen\u001b[39m(dna1))])\n\u001b[0;32m      5\u001b[0m dna1\n\u001b[0;32m      6\u001b[0m connected\n",
      "Cell \u001b[1;32mIn[91], line 4\u001b[0m, in \u001b[0;36m<listcomp>\u001b[1;34m(.0)\u001b[0m\n\u001b[0;32m      2\u001b[0m dna2 \u001b[38;5;241m=\u001b[39m \u001b[38;5;124m\"\u001b[39m\u001b[38;5;124mTGGATCAAAT\u001b[39m\u001b[38;5;124m\"\u001b[39m\n\u001b[0;32m      3\u001b[0m con \u001b[38;5;241m=\u001b[39m {\u001b[38;5;124m\"\u001b[39m\u001b[38;5;124mA\u001b[39m\u001b[38;5;124m\"\u001b[39m : \u001b[38;5;124m\"\u001b[39m\u001b[38;5;124mT\u001b[39m\u001b[38;5;124m\"\u001b[39m , \u001b[38;5;124m\"\u001b[39m\u001b[38;5;124mC\u001b[39m\u001b[38;5;124m\"\u001b[39m : \u001b[38;5;124m\"\u001b[39m\u001b[38;5;124mG\u001b[39m\u001b[38;5;124m\"\u001b[39m , \u001b[38;5;124m\"\u001b[39m\u001b[38;5;124mT\u001b[39m\u001b[38;5;124m\"\u001b[39m : \u001b[38;5;124m\"\u001b[39m\u001b[38;5;124mA\u001b[39m\u001b[38;5;124m\"\u001b[39m , \u001b[38;5;124m\"\u001b[39m\u001b[38;5;124mG\u001b[39m\u001b[38;5;124m\"\u001b[39m : \u001b[38;5;124m\"\u001b[39m\u001b[38;5;124mC\u001b[39m\u001b[38;5;124m\"\u001b[39m}\n\u001b[1;32m----> 4\u001b[0m conected \u001b[38;5;241m=\u001b[39m \u001b[38;5;124m\"\u001b[39m\u001b[38;5;124m\"\u001b[39m\u001b[38;5;241m.\u001b[39mjoin([\u001b[38;5;124m\"\u001b[39m\u001b[38;5;124m|\u001b[39m\u001b[38;5;124m\"\u001b[39m \u001b[38;5;28;01mif\u001b[39;00m \u001b[43mcon\u001b[49m\u001b[43m[\u001b[49m\u001b[43mdna1\u001b[49m\u001b[43m[\u001b[49m\u001b[43mi\u001b[49m\u001b[43m]\u001b[49m\u001b[43m]\u001b[49m \u001b[38;5;241m==\u001b[39m dna2[i] \u001b[38;5;28;01melse\u001b[39;00m \u001b[38;5;124m\"\u001b[39m\u001b[38;5;124m.\u001b[39m\u001b[38;5;124m\"\u001b[39m \u001b[38;5;28;01mfor\u001b[39;00m i \u001b[38;5;129;01min\u001b[39;00m \u001b[38;5;28mrange\u001b[39m(\u001b[38;5;28mlen\u001b[39m(dna1))])\n\u001b[0;32m      5\u001b[0m dna1\n\u001b[0;32m      6\u001b[0m connected\n",
      "\u001b[1;31mKeyError\u001b[0m: 'R'"
     ]
    }
   ],
   "source": [
    "dna1 = \"ACCRAGCTTA\"\n",
    "dna2 = \"TGGATCAAAT\"\n",
    "con = {\"A\" : \"T\" , \"C\" : \"G\" , \"T\" : \"A\" , \"G\" : \"C\"}\n",
    "conected = \"\".join([\"|\" if con[dna1[i]] == dna2[i] else \".\" for i in range(len(dna1))])\n",
    "dna1\n",
    "connected\n",
    "dna2"
   ]
  },
  {
   "cell_type": "code",
   "execution_count": 97,
   "id": "97ed2add-ebe1-4ee0-9401-6cc193b0c583",
   "metadata": {
    "tags": []
   },
   "outputs": [
    {
     "data": {
      "text/plain": [
       "['T', 'T', 'T', 'T', 'T', 'T', 'T', 'T', 'T', 'T']"
      ]
     },
     "execution_count": 97,
     "metadata": {},
     "output_type": "execute_result"
    }
   ],
   "source": [
    "connect = [con['A'] for i in range(len(dna1))]\n",
    "connect"
   ]
  },
  {
   "cell_type": "code",
   "execution_count": null,
   "id": "eda85215-f968-4574-896d-c2cb16dd04dd",
   "metadata": {},
   "outputs": [],
   "source": []
  }
 ],
 "metadata": {
  "kernelspec": {
   "display_name": "Python 3 (ipykernel)",
   "language": "python",
   "name": "python3"
  },
  "language_info": {
   "codemirror_mode": {
    "name": "ipython",
    "version": 3
   },
   "file_extension": ".py",
   "mimetype": "text/x-python",
   "name": "python",
   "nbconvert_exporter": "python",
   "pygments_lexer": "ipython3",
   "version": "3.10.2"
  }
 },
 "nbformat": 4,
 "nbformat_minor": 5
}
